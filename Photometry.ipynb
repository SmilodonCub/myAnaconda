{
 "cells": [
  {
   "cell_type": "markdown",
   "metadata": {},
   "source": [
    "# Radiometry & Photometry: Basics Concepts \n",
    "##### by Bonnie Cooper  bcooper@sunyopt.edu\n",
    "<br>\n",
    "\n",
    "![](https://cdn.factcheck.org/UploadedFiles/lightbulb.jpg)  \n",
    "\n",
    "### This notebook complements Lecture 1 of Spring Semester Proseminar of the Vision Science PhD program at SUNY College of Optometry\n"
   ]
  },
  {
   "cell_type": "markdown",
   "metadata": {},
   "source": [
    "  "
   ]
  },
  {
   "cell_type": "markdown",
   "metadata": {},
   "source": [
    "<font size=\"4\">\n",
    "    \n",
    "&emsp;In this lecture we will discuss some basic concepts of Radiometry & Photometry. Radiometry & Photometry are related fields in that they both quantify various aspects of light. However, the distinction between them is very important & relevant to Vision Science. Radiometry is a field of metrology that quantitates electromagnetic radiation in the environment. Photometry is different in that it refers specifically to the visible spectrum of light and accounts for the sensitivities of human observers at various wavelengths of light via the human photopic luminosity function, or V( $\\lambda $ ). V( $\\lambda $ ) describes the envelope of sensitivity for human observers to the frequencies of visible light in light adapted conditions. (There is also a scotopic luminosity function for dark adaptation, mesopic for in between, etc). One way to think about the relationship between radiometry and photometry is that photometric measurements are electromagnetic radiation (radiometric) measures that have been bandpass filtered by V( $\\lambda $ ). This lecture will shed light on V( $\\lambda $ ) and bring understanding to relationship between radiometry and photometry.\n",
    "\n",
    "&emsp;But first, unfortunately, we need to suffer through some very boring definitions.\n",
    "\n",
    "### <font color='blue'>Total light emitted from a light source\n",
    "\n",
    "### <font color='blue'>Radiant Power: the watt.  \n",
    "    \n",
    "&emsp;Radiant Power is a measure specific to light sources. It measures the total electromagnetic power given off by a light source and is given in units of Watts or J/sec.\n",
    "\n",
    "### <font color='blue'> Luminous Power: the lumen.\n",
    "    \n",
    "&emsp;Luminous Power, as with Radiant Power, is specific to light sources. However, Luminous Power only quantifies the visible light that is percieved by a human observer.A luminous power measure is fundamentally very different from a radiant power measure and is given in different units, typically Lumens.\n",
    "\n",
    "<br>  \n",
    "\n",
    "&emsp;Let's take a look at V( $\\lambda $ ) and work through some simple examples to understand the relationship between radiant power and luminous power.\n",
    "\n",
    "![luminosityfxn](https://users.cs.cf.ac.uk/Dave.Marshall/Multimedia/Topic3.fig_18.gif)\n",
    "\n",
    "&emsp;Under photopic conditions, V( $\\lambda $ ) is shaped by the relative sensitivities of three cone photoreceptors: the Long, Medium, and Short cones (although in the figure above they are given as red, green & blue respectively). The Long and Medium cones are much more numerous than the Short wavelength cones and contribute more heavily to V( $\\lambda $ ). For the wavelengths where L and M cone sensitivities overlap, human observers are most sensitive. 555mn is approximately the peak of the photopic V( $\\lambda $ ), and at peak sensitivity the relationship between luminous power and radiant power is defined as 680 lumens per watt. \n",
    "\n",
    "&emsp;let us pretend we have a super efficient diode that only emits 555nm light and that we can control the radiant power to increase/decrease the wattage emitted.\n",
    "Let us calculate lumenous power (lumens)\n",
    "</font>\n",
    "<br>"
   ]
  },
  {
   "cell_type": "code",
   "execution_count": 10,
   "metadata": {},
   "outputs": [
    {
     "name": "stdout",
     "output_type": "stream",
     "text": [
      "4080\n"
     ]
    }
   ],
   "source": [
    "lumens_per_watt_at555nm = 680 #known conversion factor for lumens/watt at 555nm\n",
    "RadiantPower_magicDiode = 6 #radiant power (watts) of our light source\n",
    "LuminousPower_magicDiode = RadiantPower_magicDiode*lumens_per_watt_at555nm\n",
    "print( LuminousPower_magicDiode )"
   ]
  },
  {
   "cell_type": "markdown",
   "metadata": {},
   "source": [
    "<br>\n",
    "<font size=\"4\">\n",
    "&emsp;Well, that was pretty easy. To convert from radiant power to luminous power at 555nm, we just need to make use of a conversion factor. \n",
    "\n",
    "&emsp;But what if we have a light source that is not at 555nm? If that is the case, then we need to know the **Luminous Efficiency** at the wavelength of interest; this is given by the luminosity function, V( $\\lambda $ ). In the figure above, at 555nm, the peak of the curve, the luminous efficiency is 1.0. The luminous efficiency at other wavelengths of light is a proportion of the peak sensitivity. We can use the figure above to make some estimates for a few simple calculations.\n",
    "\n",
    "\n",
    "At 650nm, luminous efficiency is ~1/10th of that at peak 555nm. How does this effect the luminous power of a light source?\n",
    "</font>"
   ]
  },
  {
   "cell_type": "code",
   "execution_count": 11,
   "metadata": {},
   "outputs": [
    {
     "name": "stdout",
     "output_type": "stream",
     "text": [
      "4080.0\n"
     ]
    }
   ],
   "source": [
    "RadiantPower_magicDiode = 60 #radiant power (watts) of our light source\n",
    "luminousEfficiency = .1 #estimate the luminous efficiency for the wavelength of interest from the figure above.\n",
    "LuminousPower_magicDiode = RadiantPower_magicDiode*luminousEfficiency*lumens_per_watt_at555nm #note the same conversion factor is used here\n",
    "print( LuminousPower_magicDiode )"
   ]
  },
  {
   "cell_type": "markdown",
   "metadata": {},
   "source": [
    "<br>     \n",
    "<font size=\"4\">\n",
    "From the exercise above, we see that to calculate the luminous power, we need to take the product of the Radiant Power (Watts) and the conversion (680nm/Watt) and scale by the relative luminous efficiency. at the wavelength of interest\n",
    "\n",
    "QUESTION: How much more radiant power is required by our 650nm diode to equal the luminous power of the 555nm diode?\n",
    "<br>\n",
    "\n",
    "QUESTION: Look at the figure above, can you estimate the Luminous Efficiency at 500nm? 575? 450?\n",
    "</font>\n",
    "\n",
    "<br>"
   ]
  },
  {
   "cell_type": "markdown",
   "metadata": {},
   "source": [
    "<img src=\"https://m.quicklaneatyourforddealer.sensibledriver.com/sites/default/files/styles/fullsize/public/pictures/headlights_dark_road.png\" width=\"600\">\n",
    "<font size=\"4\">\n",
    "    \n",
    "### <font color='blue'>Total light emitted per anlge by a light source\n",
    "\n",
    "### <font color='blue'>Radiant Intensity: Watts/steridian\n",
    "Like radiant power, radiant intensity is a measure specific to light sources. However,where radiant power measures electromagnetic flux irrespective of direction, randiant intensity quantifies it for a given conical volume of angle.\n",
    "\n",
    "### <font color='blue'>Luminous Intensity: candela (cd) or lumens/steridian\n",
    "Luminous intensity quantifies the percieved light emitted from a light source for a given conical volume of angle.\n",
    "    \n",
    "### <font color='blue'>...but what is a Steridian?  \n",
    "Think of a steridian as the spherical equivalent of a radian. It is a unit measure of conical volume of a sphere such that the solid angle described subtends a surface area equal to the radius of the sphere squared. [here is a great youtube video that explains a steridian clearly](https://www.youtube.com/watch?v=V1bOThT1GKI) \n",
    "\n",
    "***\n",
    "### <font color='blue'>Lightness of a surface\n",
    "\n",
    "&emsp;The previous sets of definitions introduced radiometric and photometric concepts that quantify light emitted by light sources. The next several definitions quantify lightness/brightness of objects and/or surfaces. Radiant and Photometric Intensity quantified the amout of light emitted per steridian. Using the unit circle and steridians for a measurement of a real world object or surface, however, is not practical because this would require approximating the surface as a point light source. While this may find appropriate applications in a modern physics lab, for Vision Scientists this is problematic, so there are other measurements used that define light in terms of a surface area.\n",
    "\n",
    "### <font color='blue'>Radiance: Watts/sr/m^2 \n",
    "Randiance is NOT specific to light sources and is used to quantify the light of objects and/or surfaces. Radiance quatifies the electromagnetic radiation from a given surface area.    \n",
    "    \n",
    "### <font color='blue'>Luminance: Candelas/m^2, or Foot-lamberts    \n",
    "Luminance quantifies the percieved light from a given surface area. Luminance is closely related to the perceptual phenomenon of percieved brightness of objects.    \n",
    "   \n",
    "Some surfaces have a 'matt' quality to them. That is to say that, the luminance of the surface does not change with respect the angle that it is viewed from. These are called cosine, lambertian or perfectly diffusing surfaces. However, specular surfaces may have shiny or glossy quality to them. The luminance of a specular surface changes as the angle of viewing changes.  \n",
    "***\n",
    "### <font color='blue'>Lightness falling on a surface   \n",
    "The prefix 'il' is used to give a word it's opposite meaning. In this case, illuminance and irradiance can be thought of as having the opposite convention of radiance and luminance respectively. \n",
    "    \n",
    "### <font color='blue'>Irradiance: Watts/m^2\n",
    "Irradiance quantifies the electromagnetic radiation incident on a surface area.    \n",
    "   \n",
    "### <font color='blue'>Illuminance: lux, lumens/m^2, foot-candles, lumens/foot^2 \n",
    "Illuminance quantifies the amount of percieved visible light on a surface area. \n",
    "    \n",
    "Think of illuminance as the falling rain: it is ignorant of the surface upon which it falls. Many objects in the same environment may fall under the same illuminance and yet have very different luminance and other surface spectral qualities. \n",
    "\n",
    "This table gives some examples of environments and their approximate illuminance levels\n",
    "<img src=\"https://d114hh0cykhyb0.cloudfront.net/assets/2019/03/06203201/FootcandleLuxTable2.jpg\" width=\"400\">    "
   ]
  },
  {
   "cell_type": "markdown",
   "metadata": {},
   "source": [
    "<font size=\"4\">\n",
    "\n",
    "### <font color='blue'> Inverse Square Law\n",
    "The illumination of a surface is inversely proportional to the distance of the object to the light source illuminating it. This is the same for luminance/illuminance or radiance/irradiance (We can use the same equation of lumens/m^2 as watts/m^2)\n",
    "#### E = I/D^2    \n",
    "    where E = illumination of the surface (lux or foot-candles)\n",
    "          I = luminous Intensity of the point source (candelas)\n",
    "          d = distance from the point source to surface\n",
    "![invSqrLaw](https://media1.britannica.com/eb-media/34/108834-004-B7B1A692.gif)    "
   ]
  },
  {
   "cell_type": "code",
   "execution_count": 12,
   "metadata": {},
   "outputs": [
    {
     "name": "stdout",
     "output_type": "stream",
     "text": [
      "0.0625\n"
     ]
    }
   ],
   "source": [
    "d = 4 # meters\n",
    "I = 1 # watts\n",
    "E = I/d**2\n",
    "print( E )"
   ]
  },
  {
   "cell_type": "markdown",
   "metadata": {},
   "source": [
    "<font size=\"4\">  \n",
    "    \n",
    "### <font color='blue'> Let's spend some time with the Luminosity Function  \n",
    "<br>\n",
    "Now that we have become familiar with some basic Photopic and Radiometric terms to quantify light or electromagnetic radiation, let's revisit V( $\\lambda $ ) to understand it in more detail... \n",
    "    \n",
    "The cell locks below show python code used to access .csv data files for various CIE luminosity functions. The luminosity functions can be viewed and downloaded from the [UCL Color & Vision Research Lab site](http://www.cvrl.org/lumindex.htm) However, for your convenience (also so that you can play with & modify the code from any platform), I have uploaded the data to my github account and we will be accessing it from there.\n",
    "   "
   ]
  },
  {
   "cell_type": "code",
   "execution_count": 15,
   "metadata": {},
   "outputs": [
    {
     "data": {
      "text/html": [
       "<div>\n",
       "<style scoped>\n",
       "    .dataframe tbody tr th:only-of-type {\n",
       "        vertical-align: middle;\n",
       "    }\n",
       "\n",
       "    .dataframe tbody tr th {\n",
       "        vertical-align: top;\n",
       "    }\n",
       "\n",
       "    .dataframe thead th {\n",
       "        text-align: right;\n",
       "    }\n",
       "</style>\n",
       "<table border=\"1\" class=\"dataframe\">\n",
       "  <thead>\n",
       "    <tr style=\"text-align: right;\">\n",
       "      <th></th>\n",
       "      <th>wavelength</th>\n",
       "      <th>log_lum_efficiency</th>\n",
       "    </tr>\n",
       "  </thead>\n",
       "  <tbody>\n",
       "    <tr>\n",
       "      <th>0</th>\n",
       "      <td>390.1</td>\n",
       "      <td>-3.22077</td>\n",
       "    </tr>\n",
       "    <tr>\n",
       "      <th>1</th>\n",
       "      <td>390.2</td>\n",
       "      <td>-3.21248</td>\n",
       "    </tr>\n",
       "    <tr>\n",
       "      <th>2</th>\n",
       "      <td>390.3</td>\n",
       "      <td>-3.20419</td>\n",
       "    </tr>\n",
       "    <tr>\n",
       "      <th>3</th>\n",
       "      <td>390.4</td>\n",
       "      <td>-3.19591</td>\n",
       "    </tr>\n",
       "    <tr>\n",
       "      <th>4</th>\n",
       "      <td>390.5</td>\n",
       "      <td>-3.18764</td>\n",
       "    </tr>\n",
       "  </tbody>\n",
       "</table>\n",
       "</div>"
      ],
      "text/plain": [
       "   wavelength  log_lum_efficiency\n",
       "0       390.1            -3.22077\n",
       "1       390.2            -3.21248\n",
       "2       390.3            -3.20419\n",
       "3       390.4            -3.19591\n",
       "4       390.5            -3.18764"
      ]
     },
     "execution_count": 15,
     "metadata": {},
     "output_type": "execute_result"
    }
   ],
   "source": [
    "#let's use the pandas python library to import the CIE luminosity function info the environment\n",
    "#i got this from http://www.cvrl.org/lumindex.htm\n",
    "#you can work off this code to take a look at other luminosity functions listed on the website\n",
    "#for example, you could retry things with the scotopic luminosity function\n",
    "import pandas as pd\n",
    "import io\n",
    "import requests\n",
    "urlCIE = 'https://raw.githubusercontent.com/SmilodonCub/myAnaconda/master/logCIE2008v2q_fine.csv'\n",
    "s=requests.get(urlCIE).content    \n",
    "#read the comma seperated value file in to a dataframe\n",
    "data = pd.read_csv(io.StringIO(s.decode('utf-8')))\n",
    "#rename the columns\n",
    "data.columns = ['wavelength', 'log_lum_efficiency']\n",
    "#show the 1st few values to get an idea of what the data in the file looks like\n",
    "data.head()"
   ]
  },
  {
   "cell_type": "code",
   "execution_count": 16,
   "metadata": {},
   "outputs": [
    {
     "data": {
      "image/png": "[encoded data removed]",
      "text/plain": [
       "<Figure size 432x288 with 1 Axes>"
      ]
     },
     "metadata": {
      "needs_background": "light"
     },
     "output_type": "display_data"
    }
   ],
   "source": [
    "#great! now lets plot...\n",
    "#let's use the python library matplotlib. there are others like seaborn that might be better/prettier, \n",
    "#but that all a matter of personal taste\n",
    "import matplotlib.pyplot as plt\n",
    "data.plot(kind='line',x='wavelength',y='log_lum_efficiency')\n",
    "plt.ylabel('Log Luminous Efficiency')\n",
    "plt.title('CIE \"physiologically-relevant\" luminous efficiency function (2deg)')\n",
    "plt.xlim(390,820)\n",
    "plt.show()"
   ]
  },
  {
   "cell_type": "markdown",
   "metadata": {},
   "source": [
    "<font size=\"4\">  \n",
    "    \n",
    "The figure above plots the CIE \"physiologically-relevant\" luminous efficiency function consistent with the Stockman & Sharpe cone fundamentals on a semilog scale. I plotted this function specifically to show how irregular the funftion's profile if particularly at the shorter wavelengths.  \n",
    "<br>  \n",
    "\n",
    "**QUESTION** If you look back at the first figure that sketches V( $\\lambda $ ), what do you suspect is causing the uneven 'bump' at the short wavelengths?\n",
    "<br>  \n"
   ]
  },
  {
   "cell_type": "code",
   "execution_count": 17,
   "metadata": {},
   "outputs": [
    {
     "data": {
      "text/html": [
       "<div>\n",
       "<style scoped>\n",
       "    .dataframe tbody tr th:only-of-type {\n",
       "        vertical-align: middle;\n",
       "    }\n",
       "\n",
       "    .dataframe tbody tr th {\n",
       "        vertical-align: top;\n",
       "    }\n",
       "\n",
       "    .dataframe thead th {\n",
       "        text-align: right;\n",
       "    }\n",
       "</style>\n",
       "<table border=\"1\" class=\"dataframe\">\n",
       "  <thead>\n",
       "    <tr style=\"text-align: right;\">\n",
       "      <th></th>\n",
       "      <th>wavelength</th>\n",
       "      <th>lum_efficiency</th>\n",
       "    </tr>\n",
       "  </thead>\n",
       "  <tbody>\n",
       "    <tr>\n",
       "      <th>0</th>\n",
       "      <td>385</td>\n",
       "      <td>0.000396</td>\n",
       "    </tr>\n",
       "    <tr>\n",
       "      <th>1</th>\n",
       "      <td>390</td>\n",
       "      <td>0.000800</td>\n",
       "    </tr>\n",
       "    <tr>\n",
       "      <th>2</th>\n",
       "      <td>395</td>\n",
       "      <td>0.001546</td>\n",
       "    </tr>\n",
       "    <tr>\n",
       "      <th>3</th>\n",
       "      <td>400</td>\n",
       "      <td>0.002800</td>\n",
       "    </tr>\n",
       "    <tr>\n",
       "      <th>4</th>\n",
       "      <td>405</td>\n",
       "      <td>0.004656</td>\n",
       "    </tr>\n",
       "  </tbody>\n",
       "</table>\n",
       "</div>"
      ],
      "text/plain": [
       "   wavelength  lum_efficiency\n",
       "0         385        0.000396\n",
       "1         390        0.000800\n",
       "2         395        0.001546\n",
       "3         400        0.002800\n",
       "4         405        0.004656"
      ]
     },
     "execution_count": 17,
     "metadata": {},
     "output_type": "execute_result"
    }
   ],
   "source": [
    "urlJV = 'https://raw.githubusercontent.com/SmilodonCub/myAnaconda/master/vljve.csv'\n",
    "s=requests.get(urlJV).content    \n",
    "#read the comma seperated value file in to a dataframe\n",
    "data = pd.read_csv(io.StringIO(s.decode('utf-8')))\n",
    "#show the 1st few values to get an idea of what the data in the file looks like\n",
    "data.columns = ['wavelength', 'lum_efficiency']\n",
    "data.head()"
   ]
  },
  {
   "cell_type": "code",
   "execution_count": 18,
   "metadata": {
    "scrolled": true
   },
   "outputs": [
    {
     "data": {
      "image/png": "[encoded data removed]",
      "text/plain": [
       "<Figure size 432x288 with 1 Axes>"
      ]
     },
     "metadata": {
      "needs_background": "light"
     },
     "output_type": "display_data"
    }
   ],
   "source": [
    "import matplotlib.pyplot as plt\n",
    "data.plot(kind='line',x='wavelength',y='lum_efficiency')\n",
    "plt.ylabel('Luminous Efficiency')\n",
    "plt.title('CIE Photopic V(λ) modified by Judd (1951) and Vos (1978)')\n",
    "plt.xlim(390,820)\n",
    "plt.show()"
   ]
  },
  {
   "cell_type": "markdown",
   "metadata": {},
   "source": [
    "<font size=\"4\">  \n",
    "    \n",
    "The figure above shows the CIE Photopic V(λ) modified by Judd (1951) and Vos (1978). This V( $\\lambda $ ) format might look more familiar and the y-axis gives a readily understandable measure of the Luminous Efficiency. With this data, we no longer have to guess what the luminous efficiency is for a given wavelength. Instead, we can read off a very detailed value\n",
    "<br>\n",
    "\n"
   ]
  },
  {
   "cell_type": "code",
   "execution_count": 19,
   "metadata": {},
   "outputs": [
    {
     "data": {
      "text/html": [
       "<div>\n",
       "<style scoped>\n",
       "    .dataframe tbody tr th:only-of-type {\n",
       "        vertical-align: middle;\n",
       "    }\n",
       "\n",
       "    .dataframe tbody tr th {\n",
       "        vertical-align: top;\n",
       "    }\n",
       "\n",
       "    .dataframe thead th {\n",
       "        text-align: right;\n",
       "    }\n",
       "</style>\n",
       "<table border=\"1\" class=\"dataframe\">\n",
       "  <thead>\n",
       "    <tr style=\"text-align: right;\">\n",
       "      <th></th>\n",
       "      <th>wavelength</th>\n",
       "      <th>lum_efficiency</th>\n",
       "    </tr>\n",
       "  </thead>\n",
       "  <tbody>\n",
       "    <tr>\n",
       "      <th>18</th>\n",
       "      <td>475</td>\n",
       "      <td>0.11284</td>\n",
       "    </tr>\n",
       "  </tbody>\n",
       "</table>\n",
       "</div>"
      ],
      "text/plain": [
       "    wavelength  lum_efficiency\n",
       "18         475         0.11284"
      ]
     },
     "execution_count": 19,
     "metadata": {},
     "output_type": "execute_result"
    }
   ],
   "source": [
    "#find the luminous efficiency at a desired wavelength, for example 475nm\n",
    "wavelengthCheck = 475\n",
    "data.iloc[(data['wavelength']-wavelengthCheck).abs().argsort()[:1]]"
   ]
  },
  {
   "cell_type": "markdown",
   "metadata": {},
   "source": [
    "<font size=\"4\"> \n",
    "    \n",
    "**QUESTION** What is the Judd & Vos luminous efficiency at 650nm? How about 570? "
   ]
  },
  {
   "cell_type": "markdown",
   "metadata": {},
   "source": [
    "<font size=\"4\">\n",
    "    \n",
    "### <font color='blue'> Let's talk about Filters\n",
    "    \n",
    "This notebook started in saying, \"One way to think about the relationship between radiometry and photometry is that photometric measurements are like electromagnetic radiation (radiometric) measures that have been bandpass filtered by V( $\\lambda $ ).\" Let's take a look at how some basic filter primitives (lowpass, highpass & bandpass) act on signal so that we can make more sense of this statement.\n",
    "<br>\n"
   ]
  },
  {
   "cell_type": "code",
   "execution_count": 20,
   "metadata": {},
   "outputs": [
    {
     "data": {
      "text/html": [
       "<div>\n",
       "<style scoped>\n",
       "    .dataframe tbody tr th:only-of-type {\n",
       "        vertical-align: middle;\n",
       "    }\n",
       "\n",
       "    .dataframe tbody tr th {\n",
       "        vertical-align: top;\n",
       "    }\n",
       "\n",
       "    .dataframe thead th {\n",
       "        text-align: right;\n",
       "    }\n",
       "</style>\n",
       "<table border=\"1\" class=\"dataframe\">\n",
       "  <thead>\n",
       "    <tr style=\"text-align: right;\">\n",
       "      <th></th>\n",
       "      <th>wavelength</th>\n",
       "      <th>lum_efficiency</th>\n",
       "      <th>lowpass_filter</th>\n",
       "    </tr>\n",
       "  </thead>\n",
       "  <tbody>\n",
       "    <tr>\n",
       "      <th>0</th>\n",
       "      <td>385</td>\n",
       "      <td>0.000396</td>\n",
       "      <td>1.0</td>\n",
       "    </tr>\n",
       "    <tr>\n",
       "      <th>1</th>\n",
       "      <td>390</td>\n",
       "      <td>0.000800</td>\n",
       "      <td>1.0</td>\n",
       "    </tr>\n",
       "    <tr>\n",
       "      <th>2</th>\n",
       "      <td>395</td>\n",
       "      <td>0.001546</td>\n",
       "      <td>1.0</td>\n",
       "    </tr>\n",
       "    <tr>\n",
       "      <th>3</th>\n",
       "      <td>400</td>\n",
       "      <td>0.002800</td>\n",
       "      <td>1.0</td>\n",
       "    </tr>\n",
       "    <tr>\n",
       "      <th>4</th>\n",
       "      <td>405</td>\n",
       "      <td>0.004656</td>\n",
       "      <td>1.0</td>\n",
       "    </tr>\n",
       "  </tbody>\n",
       "</table>\n",
       "</div>"
      ],
      "text/plain": [
       "   wavelength  lum_efficiency  lowpass_filter\n",
       "0         385        0.000396             1.0\n",
       "1         390        0.000800             1.0\n",
       "2         395        0.001546             1.0\n",
       "3         400        0.002800             1.0\n",
       "4         405        0.004656             1.0"
      ]
     },
     "execution_count": 20,
     "metadata": {},
     "output_type": "execute_result"
    }
   ],
   "source": [
    "#Let's generate a lowpass filter\n",
    "#this low pass filter will have a full luminous efficiency at all the wavelengths up to a cutoff value (inclusive).\n",
    "#No wavelengths above the cutoff can pass through, so the luminous efficiency drops to zero\n",
    "import numpy as np\n",
    "lowpass_CUTOFF = 470 #(nm) set the cutoff for th lowpass filter. every wavelength above this will not pass through\n",
    "#generate our filter\n",
    "#find the index with the closest value\n",
    "cutoff_idx = list(data.iloc[(data['wavelength']-lowpass_CUTOFF).abs().argsort()[:1]].index)\n",
    "#make a new row in our dataframe to hold the vlues of our lowpass filter\n",
    "data['lowpass_filter']=pd.DataFrame(np.zeros(shape=(len(data.lum_efficiency),1)))\n",
    "data.loc[0:cutoff_idx[0],'lowpass_filter'] = 1\n",
    "data.head()"
   ]
  },
  {
   "cell_type": "code",
   "execution_count": 21,
   "metadata": {},
   "outputs": [
    {
     "data": {
      "image/png": "[encoded data removed]",
      "text/plain": [
       "<Figure size 432x288 with 1 Axes>"
      ]
     },
     "metadata": {
      "needs_background": "light"
     },
     "output_type": "display_data"
    }
   ],
   "source": [
    "#let's plot our filter\n",
    "import matplotlib.pyplot as plt\n",
    "data.plot(kind='line',x='wavelength',y='lowpass_filter')\n",
    "plt.ylabel('Luminous Efficiency')\n",
    "plt.title('Lowpass Filter')\n",
    "plt.xlim(390,820)\n",
    "plt.show()"
   ]
  },
  {
   "cell_type": "code",
   "execution_count": 22,
   "metadata": {},
   "outputs": [
    {
     "name": "stdout",
     "output_type": "stream",
     "text": [
      "23\n"
     ]
    },
    {
     "data": {
      "text/html": [
       "<div>\n",
       "<style scoped>\n",
       "    .dataframe tbody tr th:only-of-type {\n",
       "        vertical-align: middle;\n",
       "    }\n",
       "\n",
       "    .dataframe tbody tr th {\n",
       "        vertical-align: top;\n",
       "    }\n",
       "\n",
       "    .dataframe thead th {\n",
       "        text-align: right;\n",
       "    }\n",
       "</style>\n",
       "<table border=\"1\" class=\"dataframe\">\n",
       "  <thead>\n",
       "    <tr style=\"text-align: right;\">\n",
       "      <th></th>\n",
       "      <th>wavelength</th>\n",
       "      <th>lum_efficiency</th>\n",
       "      <th>lowpass_filter</th>\n",
       "      <th>highpass_filter</th>\n",
       "    </tr>\n",
       "  </thead>\n",
       "  <tbody>\n",
       "    <tr>\n",
       "      <th>0</th>\n",
       "      <td>385</td>\n",
       "      <td>0.000396</td>\n",
       "      <td>1.0</td>\n",
       "      <td>0.0</td>\n",
       "    </tr>\n",
       "    <tr>\n",
       "      <th>1</th>\n",
       "      <td>390</td>\n",
       "      <td>0.000800</td>\n",
       "      <td>1.0</td>\n",
       "      <td>0.0</td>\n",
       "    </tr>\n",
       "    <tr>\n",
       "      <th>2</th>\n",
       "      <td>395</td>\n",
       "      <td>0.001546</td>\n",
       "      <td>1.0</td>\n",
       "      <td>0.0</td>\n",
       "    </tr>\n",
       "    <tr>\n",
       "      <th>3</th>\n",
       "      <td>400</td>\n",
       "      <td>0.002800</td>\n",
       "      <td>1.0</td>\n",
       "      <td>0.0</td>\n",
       "    </tr>\n",
       "    <tr>\n",
       "      <th>4</th>\n",
       "      <td>405</td>\n",
       "      <td>0.004656</td>\n",
       "      <td>1.0</td>\n",
       "      <td>0.0</td>\n",
       "    </tr>\n",
       "  </tbody>\n",
       "</table>\n",
       "</div>"
      ],
      "text/plain": [
       "   wavelength  lum_efficiency  lowpass_filter  highpass_filter\n",
       "0         385        0.000396             1.0              0.0\n",
       "1         390        0.000800             1.0              0.0\n",
       "2         395        0.001546             1.0              0.0\n",
       "3         400        0.002800             1.0              0.0\n",
       "4         405        0.004656             1.0              0.0"
      ]
     },
     "execution_count": 22,
     "metadata": {},
     "output_type": "execute_result"
    }
   ],
   "source": [
    "#Let's generate a highpass filter. \n",
    "#Our highpass filter, will have maximun luminous efficiency (1) at and above a cutoff value. \n",
    "#All wavelengths shorter than will not pass.\n",
    "highpass_CUTOFF =  500#(nm) set the cutoff for th lowpass filter. every wavelength above this will not pass through\n",
    "#generate our filter\n",
    "#find the index with the closest value\n",
    "cutoff_idx = list(data.iloc[(data['wavelength']-highpass_CUTOFF).abs().argsort()[:1]].index)\n",
    "print(cutoff_idx[0])\n",
    "#make a new row in our dataframe to hold the vlues of our lowpass filter\n",
    "data['highpass_filter']=pd.DataFrame(np.zeros(shape=(len(data.lum_efficiency),1)))\n",
    "data.loc[cutoff_idx[0]:len(data.lum_efficiency),'highpass_filter'] = 1\n",
    "data.head()"
   ]
  },
  {
   "cell_type": "code",
   "execution_count": 23,
   "metadata": {},
   "outputs": [
    {
     "data": {
      "image/png": "[encoded data removed]",
      "text/plain": [
       "<Figure size 432x288 with 1 Axes>"
      ]
     },
     "metadata": {
      "needs_background": "light"
     },
     "output_type": "display_data"
    }
   ],
   "source": [
    "#let's plot our filter\n",
    "import matplotlib.pyplot as plt\n",
    "data.plot(kind='line',x='wavelength',y='highpass_filter')\n",
    "plt.ylabel('Luminous Efficiency')\n",
    "plt.title('Highpass Filter')\n",
    "plt.xlim(390,820)\n",
    "plt.show()"
   ]
  },
  {
   "cell_type": "code",
   "execution_count": 24,
   "metadata": {},
   "outputs": [
    {
     "data": {
      "text/html": [
       "<div>\n",
       "<style scoped>\n",
       "    .dataframe tbody tr th:only-of-type {\n",
       "        vertical-align: middle;\n",
       "    }\n",
       "\n",
       "    .dataframe tbody tr th {\n",
       "        vertical-align: top;\n",
       "    }\n",
       "\n",
       "    .dataframe thead th {\n",
       "        text-align: right;\n",
       "    }\n",
       "</style>\n",
       "<table border=\"1\" class=\"dataframe\">\n",
       "  <thead>\n",
       "    <tr style=\"text-align: right;\">\n",
       "      <th></th>\n",
       "      <th>wavelength</th>\n",
       "      <th>lum_efficiency</th>\n",
       "      <th>lowpass_filter</th>\n",
       "      <th>highpass_filter</th>\n",
       "      <th>bandpass_filter</th>\n",
       "    </tr>\n",
       "  </thead>\n",
       "  <tbody>\n",
       "    <tr>\n",
       "      <th>0</th>\n",
       "      <td>385</td>\n",
       "      <td>0.000396</td>\n",
       "      <td>1.0</td>\n",
       "      <td>0.0</td>\n",
       "      <td>0.0</td>\n",
       "    </tr>\n",
       "    <tr>\n",
       "      <th>1</th>\n",
       "      <td>390</td>\n",
       "      <td>0.000800</td>\n",
       "      <td>1.0</td>\n",
       "      <td>0.0</td>\n",
       "      <td>0.0</td>\n",
       "    </tr>\n",
       "    <tr>\n",
       "      <th>2</th>\n",
       "      <td>395</td>\n",
       "      <td>0.001546</td>\n",
       "      <td>1.0</td>\n",
       "      <td>0.0</td>\n",
       "      <td>0.0</td>\n",
       "    </tr>\n",
       "    <tr>\n",
       "      <th>3</th>\n",
       "      <td>400</td>\n",
       "      <td>0.002800</td>\n",
       "      <td>1.0</td>\n",
       "      <td>0.0</td>\n",
       "      <td>0.0</td>\n",
       "    </tr>\n",
       "    <tr>\n",
       "      <th>4</th>\n",
       "      <td>405</td>\n",
       "      <td>0.004656</td>\n",
       "      <td>1.0</td>\n",
       "      <td>0.0</td>\n",
       "      <td>0.0</td>\n",
       "    </tr>\n",
       "  </tbody>\n",
       "</table>\n",
       "</div>"
      ],
      "text/plain": [
       "   wavelength  lum_efficiency  lowpass_filter  highpass_filter  \\\n",
       "0         385        0.000396             1.0              0.0   \n",
       "1         390        0.000800             1.0              0.0   \n",
       "2         395        0.001546             1.0              0.0   \n",
       "3         400        0.002800             1.0              0.0   \n",
       "4         405        0.004656             1.0              0.0   \n",
       "\n",
       "   bandpass_filter  \n",
       "0              0.0  \n",
       "1              0.0  \n",
       "2              0.0  \n",
       "3              0.0  \n",
       "4              0.0  "
      ]
     },
     "execution_count": 24,
     "metadata": {},
     "output_type": "execute_result"
    }
   ],
   "source": [
    "#Finally, let's build a bandpass filter\n",
    "#our bandpass filter will have two cutoff values. \n",
    "#Wavelengths between and including the cutoffs will pass with maximun luminous efficiency\n",
    "lowband_CUTOFF = 470.\n",
    "highband_CUTOFF = 500 #(nm) set the cutoff for th lowpass filter. every wavelength above this will not pass through\n",
    "#generate our filter\n",
    "#find the index with the closest value\n",
    "lowcutoff_idx = list(data.iloc[(data['wavelength']-lowband_CUTOFF).abs().argsort()[:1]].index)\n",
    "highcutoff_idx = list(data.iloc[(data['wavelength']-highband_CUTOFF).abs().argsort()[:1]].index)\n",
    "#make a new row in our dataframe to hold the vlues of our lowpass filter\n",
    "data['bandpass_filter']=pd.DataFrame(np.zeros(shape=(len(data.lum_efficiency),1)))\n",
    "data.loc[lowcutoff_idx[0]:highcutoff_idx[0],'bandpass_filter'] = 1\n",
    "data.head()"
   ]
  },
  {
   "cell_type": "code",
   "execution_count": 25,
   "metadata": {},
   "outputs": [
    {
     "data": {
      "image/png": "[encoded data removed]",
      "text/plain": [
       "<Figure size 432x288 with 1 Axes>"
      ]
     },
     "metadata": {
      "needs_background": "light"
     },
     "output_type": "display_data"
    }
   ],
   "source": [
    "#great now let's plot it too\n",
    "data.plot(kind='line',x='wavelength',y='bandpass_filter')\n",
    "plt.ylabel('Luminous Efficiency')\n",
    "plt.title('Bandpass Filter')\n",
    "plt.xlim(390,820)\n",
    "plt.show()"
   ]
  },
  {
   "cell_type": "markdown",
   "metadata": {},
   "source": [
    "<font size=\"4\">\n",
    "<br>\n",
    "    \n",
    "Now that we have constructed some very basic filters, let's generate an example signal...  \n",
    "<br>\n",
    "\n"
   ]
  },
  {
   "cell_type": "code",
   "execution_count": 26,
   "metadata": {},
   "outputs": [
    {
     "data": {
      "text/html": [
       "<div>\n",
       "<style scoped>\n",
       "    .dataframe tbody tr th:only-of-type {\n",
       "        vertical-align: middle;\n",
       "    }\n",
       "\n",
       "    .dataframe tbody tr th {\n",
       "        vertical-align: top;\n",
       "    }\n",
       "\n",
       "    .dataframe thead th {\n",
       "        text-align: right;\n",
       "    }\n",
       "</style>\n",
       "<table border=\"1\" class=\"dataframe\">\n",
       "  <thead>\n",
       "    <tr style=\"text-align: right;\">\n",
       "      <th></th>\n",
       "      <th>wavelength</th>\n",
       "      <th>lum_efficiency</th>\n",
       "      <th>lowpass_filter</th>\n",
       "      <th>highpass_filter</th>\n",
       "      <th>bandpass_filter</th>\n",
       "      <th>Light Source</th>\n",
       "    </tr>\n",
       "  </thead>\n",
       "  <tbody>\n",
       "    <tr>\n",
       "      <th>0</th>\n",
       "      <td>385</td>\n",
       "      <td>0.000396</td>\n",
       "      <td>1.0</td>\n",
       "      <td>0.0</td>\n",
       "      <td>0.0</td>\n",
       "      <td>15.587785</td>\n",
       "    </tr>\n",
       "    <tr>\n",
       "      <th>1</th>\n",
       "      <td>390</td>\n",
       "      <td>0.000800</td>\n",
       "      <td>1.0</td>\n",
       "      <td>0.0</td>\n",
       "      <td>0.0</td>\n",
       "      <td>15.412752</td>\n",
       "    </tr>\n",
       "    <tr>\n",
       "      <th>2</th>\n",
       "      <td>395</td>\n",
       "      <td>0.001546</td>\n",
       "      <td>1.0</td>\n",
       "      <td>0.0</td>\n",
       "      <td>0.0</td>\n",
       "      <td>14.838094</td>\n",
       "    </tr>\n",
       "    <tr>\n",
       "      <th>3</th>\n",
       "      <td>400</td>\n",
       "      <td>0.002800</td>\n",
       "      <td>1.0</td>\n",
       "      <td>0.0</td>\n",
       "      <td>0.0</td>\n",
       "      <td>13.910626</td>\n",
       "    </tr>\n",
       "    <tr>\n",
       "      <th>4</th>\n",
       "      <td>405</td>\n",
       "      <td>0.004656</td>\n",
       "      <td>1.0</td>\n",
       "      <td>0.0</td>\n",
       "      <td>0.0</td>\n",
       "      <td>12.704975</td>\n",
       "    </tr>\n",
       "  </tbody>\n",
       "</table>\n",
       "</div>"
      ],
      "text/plain": [
       "   wavelength  lum_efficiency  lowpass_filter  highpass_filter  \\\n",
       "0         385        0.000396             1.0              0.0   \n",
       "1         390        0.000800             1.0              0.0   \n",
       "2         395        0.001546             1.0              0.0   \n",
       "3         400        0.002800             1.0              0.0   \n",
       "4         405        0.004656             1.0              0.0   \n",
       "\n",
       "   bandpass_filter  Light Source  \n",
       "0              0.0     15.587785  \n",
       "1              0.0     15.412752  \n",
       "2              0.0     14.838094  \n",
       "3              0.0     13.910626  \n",
       "4              0.0     12.704975  "
      ]
     },
     "execution_count": 26,
     "metadata": {},
     "output_type": "execute_result"
    }
   ],
   "source": [
    "#now let's take an arbitrary function and pretend it gives the spectral power emmision \n",
    "#of some imaginary light source. We're going to make this a new column in our dataframe\n",
    "#f(x) = sin(1.8x) + sin(x) + 5sin(4x+pi/2) + 1\n",
    "#don't worry about the code or the function, the point is that we are generating a random signal.\n",
    "import numpy as np\n",
    "xvals = np.linspace( -np.pi, np.pi, len(data.lum_efficiency) )\n",
    "#feel free to change this!\n",
    "weirdFunctionVals = np.sin(1.8* xvals ) + np.sin( xvals ) + 5*np.sin(4*xvals+np.pi/2) + 10\n",
    "data['Light Source']=pd.DataFrame(weirdFunctionVals)\n",
    "data.head()"
   ]
  },
  {
   "cell_type": "code",
   "execution_count": 27,
   "metadata": {},
   "outputs": [
    {
     "data": {
      "image/png": "[encoded data removed]",
      "text/plain": [
       "<Figure size 432x288 with 1 Axes>"
      ]
     },
     "metadata": {
      "needs_background": "light"
     },
     "output_type": "display_data"
    }
   ],
   "source": [
    "#plot our wierd light source power emmission\n",
    "import matplotlib.pyplot as plt\n",
    "data.plot(kind='line',x='wavelength',y='Light Source')\n",
    "plt.ylabel('Spectral Radiant Power (Watts)')\n",
    "plt.title('Spectral Power Emission of our Imaginary Light Source')\n",
    "plt.xlim(390,820)\n",
    "plt.show()"
   ]
  },
  {
   "cell_type": "markdown",
   "metadata": {},
   "source": [
    "<font size=\"4\">\n",
    "<br>\n",
    "    \n",
    "The figure above plots the Radiant Power (Watts) of our imaginary light source. It is showing the power of the electromagnetic emmissions in the visible light range. Next, we would like to apply our filters to see the effect on the signals. Before you view the plots below, take a guess, maybe even sketch on a piece of paper what you expect the result of filtering the light source will be through the lowpass, highpass and bandpass filters.  \n",
    "<br>\n",
    "\n"
   ]
  },
  {
   "cell_type": "code",
   "execution_count": 28,
   "metadata": {},
   "outputs": [
    {
     "data": {
      "text/html": [
       "<div>\n",
       "<style scoped>\n",
       "    .dataframe tbody tr th:only-of-type {\n",
       "        vertical-align: middle;\n",
       "    }\n",
       "\n",
       "    .dataframe tbody tr th {\n",
       "        vertical-align: top;\n",
       "    }\n",
       "\n",
       "    .dataframe thead th {\n",
       "        text-align: right;\n",
       "    }\n",
       "</style>\n",
       "<table border=\"1\" class=\"dataframe\">\n",
       "  <thead>\n",
       "    <tr style=\"text-align: right;\">\n",
       "      <th></th>\n",
       "      <th>wavelength</th>\n",
       "      <th>lum_efficiency</th>\n",
       "      <th>lowpass_filter</th>\n",
       "      <th>highpass_filter</th>\n",
       "      <th>bandpass_filter</th>\n",
       "      <th>Light Source</th>\n",
       "      <th>Lowpass Result</th>\n",
       "      <th>Highpass Result</th>\n",
       "      <th>Bandpass Result</th>\n",
       "    </tr>\n",
       "  </thead>\n",
       "  <tbody>\n",
       "    <tr>\n",
       "      <th>0</th>\n",
       "      <td>385</td>\n",
       "      <td>0.000396</td>\n",
       "      <td>1.0</td>\n",
       "      <td>0.0</td>\n",
       "      <td>0.0</td>\n",
       "      <td>15.587785</td>\n",
       "      <td>15.587785</td>\n",
       "      <td>0.0</td>\n",
       "      <td>0.0</td>\n",
       "    </tr>\n",
       "    <tr>\n",
       "      <th>1</th>\n",
       "      <td>390</td>\n",
       "      <td>0.000800</td>\n",
       "      <td>1.0</td>\n",
       "      <td>0.0</td>\n",
       "      <td>0.0</td>\n",
       "      <td>15.412752</td>\n",
       "      <td>15.412752</td>\n",
       "      <td>0.0</td>\n",
       "      <td>0.0</td>\n",
       "    </tr>\n",
       "    <tr>\n",
       "      <th>2</th>\n",
       "      <td>395</td>\n",
       "      <td>0.001546</td>\n",
       "      <td>1.0</td>\n",
       "      <td>0.0</td>\n",
       "      <td>0.0</td>\n",
       "      <td>14.838094</td>\n",
       "      <td>14.838094</td>\n",
       "      <td>0.0</td>\n",
       "      <td>0.0</td>\n",
       "    </tr>\n",
       "    <tr>\n",
       "      <th>3</th>\n",
       "      <td>400</td>\n",
       "      <td>0.002800</td>\n",
       "      <td>1.0</td>\n",
       "      <td>0.0</td>\n",
       "      <td>0.0</td>\n",
       "      <td>13.910626</td>\n",
       "      <td>13.910626</td>\n",
       "      <td>0.0</td>\n",
       "      <td>0.0</td>\n",
       "    </tr>\n",
       "    <tr>\n",
       "      <th>4</th>\n",
       "      <td>405</td>\n",
       "      <td>0.004656</td>\n",
       "      <td>1.0</td>\n",
       "      <td>0.0</td>\n",
       "      <td>0.0</td>\n",
       "      <td>12.704975</td>\n",
       "      <td>12.704975</td>\n",
       "      <td>0.0</td>\n",
       "      <td>0.0</td>\n",
       "    </tr>\n",
       "  </tbody>\n",
       "</table>\n",
       "</div>"
      ],
      "text/plain": [
       "   wavelength  lum_efficiency  lowpass_filter  highpass_filter  \\\n",
       "0         385        0.000396             1.0              0.0   \n",
       "1         390        0.000800             1.0              0.0   \n",
       "2         395        0.001546             1.0              0.0   \n",
       "3         400        0.002800             1.0              0.0   \n",
       "4         405        0.004656             1.0              0.0   \n",
       "\n",
       "   bandpass_filter  Light Source  Lowpass Result  Highpass Result  \\\n",
       "0              0.0     15.587785       15.587785              0.0   \n",
       "1              0.0     15.412752       15.412752              0.0   \n",
       "2              0.0     14.838094       14.838094              0.0   \n",
       "3              0.0     13.910626       13.910626              0.0   \n",
       "4              0.0     12.704975       12.704975              0.0   \n",
       "\n",
       "   Bandpass Result  \n",
       "0              0.0  \n",
       "1              0.0  \n",
       "2              0.0  \n",
       "3              0.0  \n",
       "4              0.0  "
      ]
     },
     "execution_count": 28,
     "metadata": {},
     "output_type": "execute_result"
    }
   ],
   "source": [
    "#let's see how the different filters affect our light source\n",
    "data['Lowpass Result']= pd.DataFrame( data['Light Source'].multiply(data['lowpass_filter'], axis=\"index\") )\n",
    "data['Highpass Result']= pd.DataFrame( data['Light Source'].multiply(data['highpass_filter'], axis=\"index\") )\n",
    "data['Bandpass Result']= pd.DataFrame( data['Light Source'].multiply(data['bandpass_filter'], axis=\"index\") )\n",
    "data.head()"
   ]
  },
  {
   "cell_type": "code",
   "execution_count": 29,
   "metadata": {
    "scrolled": true
   },
   "outputs": [
    {
     "data": {
      "image/png": "[encoded data removed]",
      "text/plain": [
       "<Figure size 432x288 with 1 Axes>"
      ]
     },
     "metadata": {
      "needs_background": "light"
     },
     "output_type": "display_data"
    },
    {
     "data": {
      "image/png": "[encoded data removed]",
      "text/plain": [
       "<Figure size 432x288 with 1 Axes>"
      ]
     },
     "metadata": {
      "needs_background": "light"
     },
     "output_type": "display_data"
    },
    {
     "data": {
      "image/png": "[encoded data removed]",
      "text/plain": [
       "<Figure size 432x288 with 1 Axes>"
      ]
     },
     "metadata": {
      "needs_background": "light"
     },
     "output_type": "display_data"
    }
   ],
   "source": [
    "#now let's plot the result\n",
    "data.plot(x='wavelength',y='Lowpass Result', color='red', linestyle='solid',)\n",
    "data.plot(x='wavelength',y='Highpass Result', color='green', linestyle='solid',)\n",
    "data.plot(x='wavelength',y='Bandpass Result', color='blue', linestyle='solid',)\n",
    "plt.ylabel('Luminous Efficiency')\n",
    "plt.title('Our Imaginary Light Source passed through various filters')\n",
    "plt.xlim(390,820)\n",
    "plt.show()"
   ]
  },
  {
   "cell_type": "markdown",
   "metadata": {},
   "source": [
    "<font size=\"4\">\n",
    "<br>\n",
    "    \n",
    "**QUESTION** Think back to the shape of V( $\\lambda $ ), which one of our filters does V( $\\lambda $ )'s shape resemble the most?  \n",
    "<br>\n",
    "\n",
    "Let's now use V( $\\lambda $ ) as a filter to bandpass filter the spectral power emmission of our artificial light source signal. In doing so, we will take a signal's radiant power emmission in Watts and move to the luminous power in Lumens.  \n",
    "<br>\n"
   ]
  },
  {
   "cell_type": "code",
   "execution_count": 30,
   "metadata": {},
   "outputs": [
    {
     "data": {
      "image/png": "[encoded data removed]",
      "text/plain": [
       "<Figure size 432x288 with 1 Axes>"
      ]
     },
     "metadata": {
      "needs_background": "light"
     },
     "output_type": "display_data"
    }
   ],
   "source": [
    "#first, pass the signal through Vlambda (luminous efficiency)\n",
    "data['Vlambda Result']= pd.DataFrame( data['Light Source'].multiply(data['lum_efficiency'], axis=\"index\") )\n",
    "#next, multiply by the conversion for Watts/lumins\n",
    "data['Vlambda Result']=data['Vlambda Result']*lumens_per_watt_at555nm\n",
    "data.plot(x='wavelength',y='Vlambda Result', color='black', linestyle='solid',)\n",
    "plt.ylabel('Luminous Power (Lumens)')\n",
    "plt.title('Luminous Power Spectra of Our Imaginary Light Source')\n",
    "plt.xlim(390,820)\n",
    "plt.show()"
   ]
  }
 ],
 "metadata": {
  "kernelspec": {
   "display_name": "Python 3",
   "language": "python",
   "name": "python3"
  },
  "language_info": {
   "codemirror_mode": {
    "name": "ipython",
    "version": 3
   },
   "file_extension": ".py",
   "mimetype": "text/x-python",
   "name": "python",
   "nbconvert_exporter": "python",
   "pygments_lexer": "ipython3",
   "version": "3.7.3"
  }
 },
 "nbformat": 4,
 "nbformat_minor": 2
}
