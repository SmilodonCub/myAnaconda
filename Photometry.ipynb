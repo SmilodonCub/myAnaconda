{
 "cells": [
  {
   "cell_type": "markdown",
   "metadata": {},
   "source": [
    "# Photometry Basics Concepts and Units Scratchpad\n",
    "### This notebook is meant to augment Lecture 1 of Spring Semester Prosem. of the Vision Science PhD program at SUNY College of Optometry\n",
    "##### by Bonnie Cooper  bcooper@sunyopt.edu\n",
    " "
   ]
  },
  {
   "cell_type": "markdown",
   "metadata": {},
   "source": [
    "  "
   ]
  },
  {
   "cell_type": "markdown",
   "metadata": {},
   "source": [
    "## <font color='red'> Photometry: the lumen. a measure of luminous power\n",
    "## <font color='red'>Radiometry: the watt. a measure of radiant power\n",
    "At the approximate peak of the luminosity function (~555nm), there are 680 lumens per watt.\n",
    "let us pretend we have a super efficient diode that only emits 555nm light. We can control the radiant power to increade/decrease the wattage emitted.\n",
    "Let us calculate lumenous power (lumens)\n"
   ]
  },
  {
   "cell_type": "code",
   "execution_count": 2,
   "metadata": {},
   "outputs": [
    {
     "name": "stdout",
     "output_type": "stream",
     "text": [
      "680\n"
     ]
    }
   ],
   "source": [
    "lumens_per_watt_at555nm = 680 #lumens/watt\n",
    "RadiantPower_magicDiode = 1 #watts\n",
    "luminousEfficiency = 1\n",
    "LuminousPower_magicDiode = RadiantPower_magicDiode*luminousEfficiency*lumens_per_watt_at555nm\n",
    "print( LuminousPower_magicDiode )"
   ]
  },
  {
   "cell_type": "markdown",
   "metadata": {},
   "source": [
    "### The Luminosity Function describes how the sensitivity of human observers varies as a function of the wavelength of light.\n",
    "At 650nm, efficiency is 1/10th of that at peak 555nm.\n",
    "How does this effect the luminous power of light sources?"
   ]
  },
  {
   "cell_type": "code",
   "execution_count": 5,
   "metadata": {},
   "outputs": [
    {
     "name": "stdout",
     "output_type": "stream",
     "text": [
      "68.0\n"
     ]
    }
   ],
   "source": [
    "RadiantPower_magicDiode = 1 #watts\n",
    "luminousEfficiency = .1\n",
    "LuminousPower_magicDiode = RadiantPower_magicDiode*luminousEfficiency*lumens_per_watt_at555nm\n",
    "print( LuminousPower_magicDiode )"
   ]
  },
  {
   "cell_type": "markdown",
   "metadata": {},
   "source": [
    "### What is the consequence of the human luminosity functions?\n",
    "How much more radiant power is required by our 650nm diode to equal the luminous power of the 555nm diode?\n",
    "![luminosityfxn](https://users.cs.cf.ac.uk/Dave.Marshall/Multimedia/Topic3.fig_18.gif)"
   ]
  },
  {
   "cell_type": "markdown",
   "metadata": {},
   "source": [
    "## <font color='red'>Luminous Power (lumen) vs Luminous Intensity (candela (cd)) vs Luminance (foot-lamberts or candela/m^2)\n",
    "Luminous power is a nondirectional measure. Luminous intensity refers to the number of lumens produced from a given direction of a light source.\n",
    "#### 1 candela = lumen/steridian\n",
    "Luminance is given in foot-lamberts, or more commonly candelas/meter^2\n",
    "#### 1 foot-lambert = 3.426 cd/m^2"
   ]
  },
  {
   "cell_type": "markdown",
   "metadata": {},
   "source": [
    "## <font color='red'>Illuminance (lux or foot-candles). The measure of luminous power falling on a surface.\n",
    "Think of illuminance as the falling rain: it is ignorant of the surface upon which it falls. Many objects in the same environment may fall under the same illuminance and yet have very different luminance and other surfave spectral qualities. You can ask Qasim Zaidi for more on that!\n",
    "\n",
    "<img src=\"https://d114hh0cykhyb0.cloudfront.net/assets/2019/03/06203201/FootcandleLuxTable2.jpg\" width=\"400\">"
   ]
  },
  {
   "cell_type": "markdown",
   "metadata": {},
   "source": [
    "## <font color='red'> Inverse Square Law\n",
    "The illumination of a surface is inversely proportional to the distance of the object to the light source illuminating it. This is the same for luminance/illuminance or radiance/irradiance (We can use the same equation of lumens/m^2 as watts/m^2)\n",
    "#### E = I/D^2    \n",
    "    where E = illumination of the surface (lux or foot-candles)\n",
    "          I = luminous Intensity of the point source (candelas)\n",
    "          d = distance from the point source to surface\n",
    "![invSqrLaw](https://media1.britannica.com/eb-media/34/108834-004-B7B1A692.gif)    "
   ]
  },
  {
   "cell_type": "code",
   "execution_count": 9,
   "metadata": {},
   "outputs": [
    {
     "name": "stdout",
     "output_type": "stream",
     "text": [
      "0.0625\n"
     ]
    }
   ],
   "source": [
    "d = 4 # meters\n",
    "I = 1 # watts\n",
    "E = I/d**2\n",
    "print( E )"
   ]
  },
  {
   "cell_type": "markdown",
   "metadata": {},
   "source": [
    "## <font color='red'> Let's spend some time with the Luminosity Function"
   ]
  },
  {
   "cell_type": "code",
   "execution_count": 26,
   "metadata": {},
   "outputs": [
    {
     "data": {
      "text/html": [
       "<div>\n",
       "<style scoped>\n",
       "    .dataframe tbody tr th:only-of-type {\n",
       "        vertical-align: middle;\n",
       "    }\n",
       "\n",
       "    .dataframe tbody tr th {\n",
       "        vertical-align: top;\n",
       "    }\n",
       "\n",
       "    .dataframe thead th {\n",
       "        text-align: right;\n",
       "    }\n",
       "</style>\n",
       "<table border=\"1\" class=\"dataframe\">\n",
       "  <thead>\n",
       "    <tr style=\"text-align: right;\">\n",
       "      <th></th>\n",
       "      <th>wavelength</th>\n",
       "      <th>lum_efficiency</th>\n",
       "    </tr>\n",
       "  </thead>\n",
       "  <tbody>\n",
       "    <tr>\n",
       "      <th>0</th>\n",
       "      <td>390.1</td>\n",
       "      <td>-3.22077</td>\n",
       "    </tr>\n",
       "    <tr>\n",
       "      <th>1</th>\n",
       "      <td>390.2</td>\n",
       "      <td>-3.21248</td>\n",
       "    </tr>\n",
       "    <tr>\n",
       "      <th>2</th>\n",
       "      <td>390.3</td>\n",
       "      <td>-3.20419</td>\n",
       "    </tr>\n",
       "    <tr>\n",
       "      <th>3</th>\n",
       "      <td>390.4</td>\n",
       "      <td>-3.19591</td>\n",
       "    </tr>\n",
       "    <tr>\n",
       "      <th>4</th>\n",
       "      <td>390.5</td>\n",
       "      <td>-3.18764</td>\n",
       "    </tr>\n",
       "  </tbody>\n",
       "</table>\n",
       "</div>"
      ],
      "text/plain": [
       "   wavelength  lum_efficiency\n",
       "0       390.1        -3.22077\n",
       "1       390.2        -3.21248\n",
       "2       390.3        -3.20419\n",
       "3       390.4        -3.19591\n",
       "4       390.5        -3.18764"
      ]
     },
     "execution_count": 26,
     "metadata": {},
     "output_type": "execute_result"
    }
   ],
   "source": [
    "#let's use the pandas python library to import the CIE luminosity function info\n",
    "#i got this from http://www.cvrl.org/lumindex.htm\n",
    "#you can work off this code to take a look at other luminosity functions\n",
    "import pandas as pd\n",
    "#read the comma seperated value file in to a dataframe\n",
    "data = pd.read_csv(\"/home/bonzilla/Documents/dataScienceStuff/logCIE2008v2q_fine.csv\")\n",
    "#show the 1st few values to get an idea of what the data in the file looks like\n",
    "data.columns = ['wavelength', 'lum_efficiency']\n",
    "data.head()"
   ]
  },
  {
   "cell_type": "code",
   "execution_count": 59,
   "metadata": {},
   "outputs": [
    {
     "data": {
      "image/png": "[encoded data removed]",
      "text/plain": [
       "<Figure size 432x288 with 1 Axes>"
      ]
     },
     "metadata": {
      "needs_background": "light"
     },
     "output_type": "display_data"
    }
   ],
   "source": [
    "#great! now lets plot...\n",
    "#let's use the python library matplotlib. there are others like seaborn that might be better, \n",
    "#but it's all about perspective\n",
    "import matplotlib.pyplot as plt\n",
    "data.plot(kind='line',x='wavelength',y='lum_efficiency')\n",
    "plt.ylabel('Log Luminous Efficiency')\n",
    "plt.title('CIE \"physiologically-relevant\" luminous efficiency function (2deg)')\n",
    "plt.xlim(390,820)\n",
    "plt.show()"
   ]
  },
  {
   "cell_type": "code",
   "execution_count": 60,
   "metadata": {},
   "outputs": [
    {
     "data": {
      "text/html": [
       "<div>\n",
       "<style scoped>\n",
       "    .dataframe tbody tr th:only-of-type {\n",
       "        vertical-align: middle;\n",
       "    }\n",
       "\n",
       "    .dataframe tbody tr th {\n",
       "        vertical-align: top;\n",
       "    }\n",
       "\n",
       "    .dataframe thead th {\n",
       "        text-align: right;\n",
       "    }\n",
       "</style>\n",
       "<table border=\"1\" class=\"dataframe\">\n",
       "  <thead>\n",
       "    <tr style=\"text-align: right;\">\n",
       "      <th></th>\n",
       "      <th>wavelength</th>\n",
       "      <th>lum_efficiency</th>\n",
       "    </tr>\n",
       "  </thead>\n",
       "  <tbody>\n",
       "    <tr>\n",
       "      <th>0</th>\n",
       "      <td>385</td>\n",
       "      <td>0.000396</td>\n",
       "    </tr>\n",
       "    <tr>\n",
       "      <th>1</th>\n",
       "      <td>390</td>\n",
       "      <td>0.000800</td>\n",
       "    </tr>\n",
       "    <tr>\n",
       "      <th>2</th>\n",
       "      <td>395</td>\n",
       "      <td>0.001546</td>\n",
       "    </tr>\n",
       "    <tr>\n",
       "      <th>3</th>\n",
       "      <td>400</td>\n",
       "      <td>0.002800</td>\n",
       "    </tr>\n",
       "    <tr>\n",
       "      <th>4</th>\n",
       "      <td>405</td>\n",
       "      <td>0.004656</td>\n",
       "    </tr>\n",
       "  </tbody>\n",
       "</table>\n",
       "</div>"
      ],
      "text/plain": [
       "   wavelength  lum_efficiency\n",
       "0         385        0.000396\n",
       "1         390        0.000800\n",
       "2         395        0.001546\n",
       "3         400        0.002800\n",
       "4         405        0.004656"
      ]
     },
     "execution_count": 60,
     "metadata": {},
     "output_type": "execute_result"
    }
   ],
   "source": [
    "data = pd.read_csv(\"/home/bonzilla/Documents/dataScienceStuff/vljve.csv\")\n",
    "#show the 1st few values to get an idea of what the data in the file looks like\n",
    "data.columns = ['wavelength', 'lum_efficiency']\n",
    "data.head()"
   ]
  },
  {
   "cell_type": "code",
   "execution_count": 61,
   "metadata": {
    "scrolled": true
   },
   "outputs": [
    {
     "data": {
      "image/png": "[encoded data removed]",
      "text/plain": [
       "<Figure size 432x288 with 1 Axes>"
      ]
     },
     "metadata": {
      "needs_background": "light"
     },
     "output_type": "display_data"
    }
   ],
   "source": [
    "import matplotlib.pyplot as plt\n",
    "data.plot(kind='line',x='wavelength',y='lum_efficiency')\n",
    "plt.ylabel('Luminous Efficiency')\n",
    "plt.title('CIE Photopic V(λ) modified by Judd (1951) and Vos (1978)')\n",
    "plt.xlim(390,820)\n",
    "plt.show()"
   ]
  },
  {
   "cell_type": "code",
   "execution_count": 69,
   "metadata": {},
   "outputs": [
    {
     "data": {
      "text/html": [
       "<div>\n",
       "<style scoped>\n",
       "    .dataframe tbody tr th:only-of-type {\n",
       "        vertical-align: middle;\n",
       "    }\n",
       "\n",
       "    .dataframe tbody tr th {\n",
       "        vertical-align: top;\n",
       "    }\n",
       "\n",
       "    .dataframe thead th {\n",
       "        text-align: right;\n",
       "    }\n",
       "</style>\n",
       "<table border=\"1\" class=\"dataframe\">\n",
       "  <thead>\n",
       "    <tr style=\"text-align: right;\">\n",
       "      <th></th>\n",
       "      <th>wavelength</th>\n",
       "      <th>lum_efficiency</th>\n",
       "    </tr>\n",
       "  </thead>\n",
       "  <tbody>\n",
       "    <tr>\n",
       "      <th>56</th>\n",
       "      <td>665</td>\n",
       "      <td>0.044327</td>\n",
       "    </tr>\n",
       "  </tbody>\n",
       "</table>\n",
       "</div>"
      ],
      "text/plain": [
       "    wavelength  lum_efficiency\n",
       "56         665        0.044327"
      ]
     },
     "execution_count": 69,
     "metadata": {},
     "output_type": "execute_result"
    }
   ],
   "source": [
    "#find the luminou efficiency at a desired wavelength\n",
    "wavelengthCheck = 666\n",
    "data.iloc[(data['wavelength']-wavelengthCheck).abs().argsort()[:1]]"
   ]
  }
 ],
 "metadata": {
  "kernelspec": {
   "display_name": "Python 3",
   "language": "python",
   "name": "python3"
  },
  "language_info": {
   "codemirror_mode": {
    "name": "ipython",
    "version": 3
   },
   "file_extension": ".py",
   "mimetype": "text/x-python",
   "name": "python",
   "nbconvert_exporter": "python",
   "pygments_lexer": "ipython3",
   "version": "3.7.3"
  }
 },
 "nbformat": 4,
 "nbformat_minor": 2
}
