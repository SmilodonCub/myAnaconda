{
 "cells": [
  {
   "cell_type": "markdown",
   "metadata": {},
   "source": [
    "# Photometry Basics Concepts and Units Workbook\n",
    "##### by Bonnie Cooper  bcooper@sunyopt.edu\n",
    "<br>\n",
    "\n",
    "![](https://cdn.factcheck.org/UploadedFiles/lightbulb.jpg)  \n",
    "\n",
    "### This notebook complements Lecture 1 of Spring Semester Proseminar of the Vision Science PhD program at SUNY College of Optometry\n"
   ]
  },
  {
   "cell_type": "markdown",
   "metadata": {},
   "source": [
    "  "
   ]
  },
  {
   "cell_type": "markdown",
   "metadata": {},
   "source": [
    "&emsp;In this lecture we will discuss some basic concepts of Radiometry & Photometry. Radiometry & Photometry are related fields in that they both measure quantities of light. However, the distinction between them is very important & relevant to Vision Science. Radiometry is a field of metrology that quantitates electromagnetic radiation in the environment. Photometry is different in that it refers specifically to the visible spectrum of light and accounts for the sensitivities of human observers at various wavelengths of light. The human photopic luminosity function, or V( $\\lambda $ ), describes the envelope of sensitivity for human observers to the frequencies of visible light in light adapted conditions. (There is also a scotopic luminosity function for dark adaptation, mesopic for in between, etc). One way to think about the relationship between radiometry and photometry is that photometric measurements are electromagnetic radiation (radiometric) measures that have been bandpass filtered by V( $\\lambda $ ). This lecture will shed light on V( $\\lambda $ ) and bring meaning to relationship between radiometry and photometry.\n",
    "\n",
    "&emsp;But first, unfortunately, we need to suffer through some very boring definitions.\n",
    "\n",
    "### <font color='blue'>Radiometry: the watt. a measure of radiant power  \n",
    "    \n",
    "&emsp;Radiant Power is a measure specific to light sources. It measures the total electromagnetic power given off by a light source and is given in units of Watts or J/sec.\n",
    "\n",
    "### <font color='blue'> Photometry: the lumen. a measure of luminous power\n",
    "    \n",
    "&emsp;Luminous Power, as with Radiant Power, is specific to light sources. However, Luminous Power only quantifies the visible light that is percieved by a human observer.A luminous power measure is fundamentally very different than a radiant power measure and is therefore given in different units, Lumens.\n",
    "\n",
    "<br>  \n",
    "\n",
    "&emsp;Let's take a look at V( $\\lambda $ ) and work through some simple examples to understand the relationship between radiant power and luminous power.\n",
    "\n",
    "![luminosityfxn](https://users.cs.cf.ac.uk/Dave.Marshall/Multimedia/Topic3.fig_18.gif)\n",
    "\n",
    "&emsp;Under photopic conditions, V( $\\lambda $ ) is shaped by the relative sensitivities of three cone photoreceptors: the Long, Medium, and Short cones (although in the figure above they are given as red, green & blue respectively). The Long and Medium cones are much more numerous than the short and contribute heavily to V( $\\lambda $ ) & where these two cone sensitivities overlap, human observers are most sensitive to these wavelengths. 555mn is approximately the peak of V( $\\lambda $ ), and at peak sensitivity the relationship between luminous power and radiant power has been quantified to be 680 lumens per watt.\n",
    "\n",
    "&emsp;let us pretend we have a super efficient diode that only emits 555nm light. We can control the radiant power to increase/decrease the wattage emitted.\n",
    "Let us calculate lumenous power (lumens)\n",
    "\n",
    "<br>"
   ]
  },
  {
   "cell_type": "code",
   "execution_count": 104,
   "metadata": {},
   "outputs": [
    {
     "name": "stdout",
     "output_type": "stream",
     "text": [
      "4080\n"
     ]
    }
   ],
   "source": [
    "lumens_per_watt_at555nm = 680 #known conversion factor for lumens/watt at 555nm\n",
    "RadiantPower_magicDiode = 6 #radiant power (watts) of our light source\n",
    "LuminousPower_magicDiode = RadiantPower_magicDiode*lumens_per_watt_at555nm\n",
    "print( LuminousPower_magicDiode )"
   ]
  },
  {
   "cell_type": "markdown",
   "metadata": {},
   "source": [
    "<br>\n",
    "\n",
    "&emsp;Well, that was pretty easy. To convert from radiant power to luminous power at 555nm, we just need to make use of a conversion factor. \n",
    "\n",
    "&emsp;But what if we have a light source that is not at 555nm? If that is the case, then we need to know the **Luminous Efficiency** at the wavelength of interest; this is given by the luminosity function, V( $\\lambda $ ). In the figure above, at 555nm, the peak of the curve, the luminous efficiency is 1.0. The luminous efficiency at other wavelengths of light is a proportion of the peak sensitivity. We can use the figure above to make some estimates for a few simple calculations.\n",
    "\n",
    "At 650nm, luminous efficiency is ~1/10th of that at peak 555nm.  \n",
    "How does this effect the luminous power of a light source?\n"
   ]
  },
  {
   "cell_type": "code",
   "execution_count": 106,
   "metadata": {},
   "outputs": [
    {
     "name": "stdout",
     "output_type": "stream",
     "text": [
      "4080.0\n"
     ]
    }
   ],
   "source": [
    "RadiantPower_magicDiode = 60 #radiant power (watts) of our light source\n",
    "luminousEfficiency = .1 #luminous efficiency (relative to 555nm)\n",
    "LuminousPower_magicDiode = RadiantPower_magicDiode*luminousEfficiency*lumens_per_watt_at555nm #note the same conversion factor is used here\n",
    "print( LuminousPower_magicDiode )"
   ]
  },
  {
   "cell_type": "markdown",
   "metadata": {},
   "source": [
    "<br>     \n",
    "<font size=\"4\">QUESTION: How much more radiant power is required by our 650nm diode to equal the luminous power of the 555nm diode?\n",
    "<br>\n",
    "\n",
    "QUESTION: Look at the figure above, can you estimate the Luminous Efficiency at 500nm? 575? 450?\n",
    "</font>\n",
    "\n",
    "<br>"
   ]
  },
  {
   "cell_type": "markdown",
   "metadata": {},
   "source": [
    "### <font color='blue'>Luminous Power (lumen) vs Luminous Intensity (candela (cd)) vs Luminance (foot-lamberts or candela/m^2)\n",
    "Luminous power is a nondirectional measure. Luminous intensity refers to the number of lumens produced from a given direction of a light source.\n",
    "#### 1 candela = lumen/steridian\n",
    "Luminance is given in foot-lamberts, or more commonly candelas/meter^2\n",
    "#### 1 foot-lambert = 3.426 cd/m^2"
   ]
  },
  {
   "cell_type": "markdown",
   "metadata": {},
   "source": [
    "## <font color='red'>Illuminance (lux or foot-candles). The measure of luminous power falling on a surface.\n",
    "Think of illuminance as the falling rain: it is ignorant of the surface upon which it falls. Many objects in the same environment may fall under the same illuminance and yet have very different luminance and other surfave spectral qualities. You can ask Qasim Zaidi for more on that!\n",
    "\n",
    "<img src=\"https://d114hh0cykhyb0.cloudfront.net/assets/2019/03/06203201/FootcandleLuxTable2.jpg\" width=\"400\">"
   ]
  },
  {
   "cell_type": "markdown",
   "metadata": {},
   "source": [
    "## <font color='red'> Inverse Square Law\n",
    "The illumination of a surface is inversely proportional to the distance of the object to the light source illuminating it. This is the same for luminance/illuminance or radiance/irradiance (We can use the same equation of lumens/m^2 as watts/m^2)\n",
    "#### E = I/D^2    \n",
    "    where E = illumination of the surface (lux or foot-candles)\n",
    "          I = luminous Intensity of the point source (candelas)\n",
    "          d = distance from the point source to surface\n",
    "![invSqrLaw](https://media1.britannica.com/eb-media/34/108834-004-B7B1A692.gif)    "
   ]
  },
  {
   "cell_type": "code",
   "execution_count": 9,
   "metadata": {},
   "outputs": [
    {
     "name": "stdout",
     "output_type": "stream",
     "text": [
      "0.0625\n"
     ]
    }
   ],
   "source": [
    "d = 4 # meters\n",
    "I = 1 # watts\n",
    "E = I/d**2\n",
    "print( E )"
   ]
  },
  {
   "cell_type": "markdown",
   "metadata": {},
   "source": [
    "## <font color='red'> Let's spend some time with the Luminosity Function"
   ]
  },
  {
   "cell_type": "code",
   "execution_count": 107,
   "metadata": {},
   "outputs": [
    {
     "data": {
      "text/html": [
       "<div>\n",
       "<style scoped>\n",
       "    .dataframe tbody tr th:only-of-type {\n",
       "        vertical-align: middle;\n",
       "    }\n",
       "\n",
       "    .dataframe tbody tr th {\n",
       "        vertical-align: top;\n",
       "    }\n",
       "\n",
       "    .dataframe thead th {\n",
       "        text-align: right;\n",
       "    }\n",
       "</style>\n",
       "<table border=\"1\" class=\"dataframe\">\n",
       "  <thead>\n",
       "    <tr style=\"text-align: right;\">\n",
       "      <th></th>\n",
       "      <th>wavelength</th>\n",
       "      <th>lum_efficiency</th>\n",
       "    </tr>\n",
       "  </thead>\n",
       "  <tbody>\n",
       "    <tr>\n",
       "      <th>0</th>\n",
       "      <td>390.1</td>\n",
       "      <td>-3.22077</td>\n",
       "    </tr>\n",
       "    <tr>\n",
       "      <th>1</th>\n",
       "      <td>390.2</td>\n",
       "      <td>-3.21248</td>\n",
       "    </tr>\n",
       "    <tr>\n",
       "      <th>2</th>\n",
       "      <td>390.3</td>\n",
       "      <td>-3.20419</td>\n",
       "    </tr>\n",
       "    <tr>\n",
       "      <th>3</th>\n",
       "      <td>390.4</td>\n",
       "      <td>-3.19591</td>\n",
       "    </tr>\n",
       "    <tr>\n",
       "      <th>4</th>\n",
       "      <td>390.5</td>\n",
       "      <td>-3.18764</td>\n",
       "    </tr>\n",
       "  </tbody>\n",
       "</table>\n",
       "</div>"
      ],
      "text/plain": [
       "   wavelength  lum_efficiency\n",
       "0       390.1        -3.22077\n",
       "1       390.2        -3.21248\n",
       "2       390.3        -3.20419\n",
       "3       390.4        -3.19591\n",
       "4       390.5        -3.18764"
      ]
     },
     "execution_count": 107,
     "metadata": {},
     "output_type": "execute_result"
    }
   ],
   "source": [
    "#let's use the pandas python library to import the CIE luminosity function info\n",
    "#i got this from http://www.cvrl.org/lumindex.htm\n",
    "#you can work off this code to take a look at other luminosity functions\n",
    "import pandas as pd\n",
    "#read the comma seperated value file in to a dataframe\n",
    "data = pd.read_csv(\"/home/bonzilla/Documents/dataScienceStuff/logCIE2008v2q_fine.csv\")\n",
    "#show the 1st few values to get an idea of what the data in the file looks like\n",
    "data.columns = ['wavelength', 'lum_efficiency']\n",
    "data.head()"
   ]
  },
  {
   "cell_type": "code",
   "execution_count": 108,
   "metadata": {},
   "outputs": [
    {
     "data": {
      "image/png": "[encoded data removed]",
      "text/plain": [
       "<Figure size 432x288 with 1 Axes>"
      ]
     },
     "metadata": {
      "needs_background": "light"
     },
     "output_type": "display_data"
    }
   ],
   "source": [
    "#great! now lets plot...\n",
    "#let's use the python library matplotlib. there are others like seaborn that might be better, \n",
    "#but it's all about perspective\n",
    "import matplotlib.pyplot as plt\n",
    "data.plot(kind='line',x='wavelength',y='lum_efficiency')\n",
    "plt.ylabel('Log Luminous Efficiency')\n",
    "plt.title('CIE \"physiologically-relevant\" luminous efficiency function (2deg)')\n",
    "plt.xlim(390,820)\n",
    "plt.show()"
   ]
  },
  {
   "cell_type": "code",
   "execution_count": 109,
   "metadata": {},
   "outputs": [
    {
     "data": {
      "text/html": [
       "<div>\n",
       "<style scoped>\n",
       "    .dataframe tbody tr th:only-of-type {\n",
       "        vertical-align: middle;\n",
       "    }\n",
       "\n",
       "    .dataframe tbody tr th {\n",
       "        vertical-align: top;\n",
       "    }\n",
       "\n",
       "    .dataframe thead th {\n",
       "        text-align: right;\n",
       "    }\n",
       "</style>\n",
       "<table border=\"1\" class=\"dataframe\">\n",
       "  <thead>\n",
       "    <tr style=\"text-align: right;\">\n",
       "      <th></th>\n",
       "      <th>wavelength</th>\n",
       "      <th>lum_efficiency</th>\n",
       "    </tr>\n",
       "  </thead>\n",
       "  <tbody>\n",
       "    <tr>\n",
       "      <th>0</th>\n",
       "      <td>385</td>\n",
       "      <td>0.000396</td>\n",
       "    </tr>\n",
       "    <tr>\n",
       "      <th>1</th>\n",
       "      <td>390</td>\n",
       "      <td>0.000800</td>\n",
       "    </tr>\n",
       "    <tr>\n",
       "      <th>2</th>\n",
       "      <td>395</td>\n",
       "      <td>0.001546</td>\n",
       "    </tr>\n",
       "    <tr>\n",
       "      <th>3</th>\n",
       "      <td>400</td>\n",
       "      <td>0.002800</td>\n",
       "    </tr>\n",
       "    <tr>\n",
       "      <th>4</th>\n",
       "      <td>405</td>\n",
       "      <td>0.004656</td>\n",
       "    </tr>\n",
       "  </tbody>\n",
       "</table>\n",
       "</div>"
      ],
      "text/plain": [
       "   wavelength  lum_efficiency\n",
       "0         385        0.000396\n",
       "1         390        0.000800\n",
       "2         395        0.001546\n",
       "3         400        0.002800\n",
       "4         405        0.004656"
      ]
     },
     "execution_count": 109,
     "metadata": {},
     "output_type": "execute_result"
    }
   ],
   "source": [
    "import pandas as pd\n",
    "data = pd.read_csv(\"/home/bonzilla/Documents/dataScienceStuff/vljve.csv\")\n",
    "#show the 1st few values to get an idea of what the data in the file looks like\n",
    "data.columns = ['wavelength', 'lum_efficiency']\n",
    "data.head()"
   ]
  },
  {
   "cell_type": "code",
   "execution_count": 110,
   "metadata": {
    "scrolled": true
   },
   "outputs": [
    {
     "data": {
      "image/png": "[encoded data removed]",
      "text/plain": [
       "<Figure size 432x288 with 1 Axes>"
      ]
     },
     "metadata": {
      "needs_background": "light"
     },
     "output_type": "display_data"
    }
   ],
   "source": [
    "import matplotlib.pyplot as plt\n",
    "data.plot(kind='line',x='wavelength',y='lum_efficiency')\n",
    "plt.ylabel('Luminous Efficiency')\n",
    "plt.title('CIE Photopic V(λ) modified by Judd (1951) and Vos (1978)')\n",
    "plt.xlim(390,820)\n",
    "plt.show()"
   ]
  },
  {
   "cell_type": "code",
   "execution_count": 111,
   "metadata": {},
   "outputs": [
    {
     "data": {
      "text/html": [
       "<div>\n",
       "<style scoped>\n",
       "    .dataframe tbody tr th:only-of-type {\n",
       "        vertical-align: middle;\n",
       "    }\n",
       "\n",
       "    .dataframe tbody tr th {\n",
       "        vertical-align: top;\n",
       "    }\n",
       "\n",
       "    .dataframe thead th {\n",
       "        text-align: right;\n",
       "    }\n",
       "</style>\n",
       "<table border=\"1\" class=\"dataframe\">\n",
       "  <thead>\n",
       "    <tr style=\"text-align: right;\">\n",
       "      <th></th>\n",
       "      <th>wavelength</th>\n",
       "      <th>lum_efficiency</th>\n",
       "    </tr>\n",
       "  </thead>\n",
       "  <tbody>\n",
       "    <tr>\n",
       "      <th>18</th>\n",
       "      <td>475</td>\n",
       "      <td>0.11284</td>\n",
       "    </tr>\n",
       "  </tbody>\n",
       "</table>\n",
       "</div>"
      ],
      "text/plain": [
       "    wavelength  lum_efficiency\n",
       "18         475         0.11284"
      ]
     },
     "execution_count": 111,
     "metadata": {},
     "output_type": "execute_result"
    }
   ],
   "source": [
    "#find the luminous efficiency at a desired wavelength\n",
    "wavelengthCheck = 475\n",
    "data.iloc[(data['wavelength']-wavelengthCheck).abs().argsort()[:1]]"
   ]
  },
  {
   "cell_type": "markdown",
   "metadata": {},
   "source": [
    "## <font color='red'> Let's talk about Filters"
   ]
  },
  {
   "cell_type": "code",
   "execution_count": 112,
   "metadata": {},
   "outputs": [
    {
     "data": {
      "text/html": [
       "<div>\n",
       "<style scoped>\n",
       "    .dataframe tbody tr th:only-of-type {\n",
       "        vertical-align: middle;\n",
       "    }\n",
       "\n",
       "    .dataframe tbody tr th {\n",
       "        vertical-align: top;\n",
       "    }\n",
       "\n",
       "    .dataframe thead th {\n",
       "        text-align: right;\n",
       "    }\n",
       "</style>\n",
       "<table border=\"1\" class=\"dataframe\">\n",
       "  <thead>\n",
       "    <tr style=\"text-align: right;\">\n",
       "      <th></th>\n",
       "      <th>wavelength</th>\n",
       "      <th>lum_efficiency</th>\n",
       "      <th>lowpass_filter</th>\n",
       "    </tr>\n",
       "  </thead>\n",
       "  <tbody>\n",
       "    <tr>\n",
       "      <th>0</th>\n",
       "      <td>385</td>\n",
       "      <td>0.000396</td>\n",
       "      <td>1.0</td>\n",
       "    </tr>\n",
       "    <tr>\n",
       "      <th>1</th>\n",
       "      <td>390</td>\n",
       "      <td>0.000800</td>\n",
       "      <td>1.0</td>\n",
       "    </tr>\n",
       "    <tr>\n",
       "      <th>2</th>\n",
       "      <td>395</td>\n",
       "      <td>0.001546</td>\n",
       "      <td>1.0</td>\n",
       "    </tr>\n",
       "    <tr>\n",
       "      <th>3</th>\n",
       "      <td>400</td>\n",
       "      <td>0.002800</td>\n",
       "      <td>1.0</td>\n",
       "    </tr>\n",
       "    <tr>\n",
       "      <th>4</th>\n",
       "      <td>405</td>\n",
       "      <td>0.004656</td>\n",
       "      <td>1.0</td>\n",
       "    </tr>\n",
       "  </tbody>\n",
       "</table>\n",
       "</div>"
      ],
      "text/plain": [
       "   wavelength  lum_efficiency  lowpass_filter\n",
       "0         385        0.000396             1.0\n",
       "1         390        0.000800             1.0\n",
       "2         395        0.001546             1.0\n",
       "3         400        0.002800             1.0\n",
       "4         405        0.004656             1.0"
      ]
     },
     "execution_count": 112,
     "metadata": {},
     "output_type": "execute_result"
    }
   ],
   "source": [
    "import numpy as np\n",
    "\n",
    "#Let's generate a lowpass filter\n",
    "lowpass_CUTOFF = 470 #(nm) set the cutoff for th lowpass filter. every wavelength above this will not pass through\n",
    "#generate our filter\n",
    "#find the index with the closest value\n",
    "cutoff_idx = list(data.iloc[(data['wavelength']-lowpass_CUTOFF).abs().argsort()[:1]].index)\n",
    "#make a new row in our dataframe to hold the vlues of our lowpass filter\n",
    "data['lowpass_filter']=pd.DataFrame(np.zeros(shape=(len(data.lum_efficiency),1)))\n",
    "data.loc[0:cutoff_idx[0],'lowpass_filter'] = 1\n",
    "data.head()"
   ]
  },
  {
   "cell_type": "code",
   "execution_count": 113,
   "metadata": {},
   "outputs": [
    {
     "data": {
      "image/png": "[encoded data removed]",
      "text/plain": [
       "<Figure size 432x288 with 1 Axes>"
      ]
     },
     "metadata": {
      "needs_background": "light"
     },
     "output_type": "display_data"
    }
   ],
   "source": [
    "#let's plot our filter\n",
    "import matplotlib.pyplot as plt\n",
    "data.plot(kind='line',x='wavelength',y='lowpass_filter')\n",
    "plt.ylabel('Luminous Efficiency')\n",
    "plt.title('Lowpass Filter')\n",
    "plt.xlim(390,820)\n",
    "plt.show()"
   ]
  },
  {
   "cell_type": "code",
   "execution_count": 114,
   "metadata": {},
   "outputs": [
    {
     "name": "stdout",
     "output_type": "stream",
     "text": [
      "23\n"
     ]
    },
    {
     "data": {
      "text/html": [
       "<div>\n",
       "<style scoped>\n",
       "    .dataframe tbody tr th:only-of-type {\n",
       "        vertical-align: middle;\n",
       "    }\n",
       "\n",
       "    .dataframe tbody tr th {\n",
       "        vertical-align: top;\n",
       "    }\n",
       "\n",
       "    .dataframe thead th {\n",
       "        text-align: right;\n",
       "    }\n",
       "</style>\n",
       "<table border=\"1\" class=\"dataframe\">\n",
       "  <thead>\n",
       "    <tr style=\"text-align: right;\">\n",
       "      <th></th>\n",
       "      <th>wavelength</th>\n",
       "      <th>lum_efficiency</th>\n",
       "      <th>lowpass_filter</th>\n",
       "      <th>highpass_filter</th>\n",
       "    </tr>\n",
       "  </thead>\n",
       "  <tbody>\n",
       "    <tr>\n",
       "      <th>0</th>\n",
       "      <td>385</td>\n",
       "      <td>0.000396</td>\n",
       "      <td>1.0</td>\n",
       "      <td>0.0</td>\n",
       "    </tr>\n",
       "    <tr>\n",
       "      <th>1</th>\n",
       "      <td>390</td>\n",
       "      <td>0.000800</td>\n",
       "      <td>1.0</td>\n",
       "      <td>0.0</td>\n",
       "    </tr>\n",
       "    <tr>\n",
       "      <th>2</th>\n",
       "      <td>395</td>\n",
       "      <td>0.001546</td>\n",
       "      <td>1.0</td>\n",
       "      <td>0.0</td>\n",
       "    </tr>\n",
       "    <tr>\n",
       "      <th>3</th>\n",
       "      <td>400</td>\n",
       "      <td>0.002800</td>\n",
       "      <td>1.0</td>\n",
       "      <td>0.0</td>\n",
       "    </tr>\n",
       "    <tr>\n",
       "      <th>4</th>\n",
       "      <td>405</td>\n",
       "      <td>0.004656</td>\n",
       "      <td>1.0</td>\n",
       "      <td>0.0</td>\n",
       "    </tr>\n",
       "  </tbody>\n",
       "</table>\n",
       "</div>"
      ],
      "text/plain": [
       "   wavelength  lum_efficiency  lowpass_filter  highpass_filter\n",
       "0         385        0.000396             1.0              0.0\n",
       "1         390        0.000800             1.0              0.0\n",
       "2         395        0.001546             1.0              0.0\n",
       "3         400        0.002800             1.0              0.0\n",
       "4         405        0.004656             1.0              0.0"
      ]
     },
     "execution_count": 114,
     "metadata": {},
     "output_type": "execute_result"
    }
   ],
   "source": [
    "#Let's generate a lo500wpass filter\n",
    "highpass_CUTOFF =  500#(nm) set the cutoff for th lowpass filter. every wavelength above this will not pass through\n",
    "#generate our filter\n",
    "#find the index with the closest value\n",
    "cutoff_idx = list(data.iloc[(data['wavelength']-highpass_CUTOFF).abs().argsort()[:1]].index)\n",
    "print(cutoff_idx[0])\n",
    "#make a new row in our dataframe to hold the vlues of our lowpass filter\n",
    "data['highpass_filter']=pd.DataFrame(np.zeros(shape=(len(data.lum_efficiency),1)))\n",
    "data.loc[cutoff_idx[0]:len(data.lum_efficiency),'highpass_filter'] = 1\n",
    "data.head()"
   ]
  },
  {
   "cell_type": "code",
   "execution_count": 115,
   "metadata": {},
   "outputs": [
    {
     "data": {
      "image/png": "[encoded data removed]",
      "text/plain": [
       "<Figure size 432x288 with 1 Axes>"
      ]
     },
     "metadata": {
      "needs_background": "light"
     },
     "output_type": "display_data"
    }
   ],
   "source": [
    "#let's plot our filter\n",
    "import matplotlib.pyplot as plt\n",
    "data.plot(kind='line',x='wavelength',y='highpass_filter')\n",
    "plt.ylabel('Luminous Efficiency')\n",
    "plt.title('Highpass Filter')\n",
    "plt.xlim(390,820)\n",
    "plt.show()"
   ]
  },
  {
   "cell_type": "code",
   "execution_count": 117,
   "metadata": {},
   "outputs": [
    {
     "data": {
      "text/html": [
       "<div>\n",
       "<style scoped>\n",
       "    .dataframe tbody tr th:only-of-type {\n",
       "        vertical-align: middle;\n",
       "    }\n",
       "\n",
       "    .dataframe tbody tr th {\n",
       "        vertical-align: top;\n",
       "    }\n",
       "\n",
       "    .dataframe thead th {\n",
       "        text-align: right;\n",
       "    }\n",
       "</style>\n",
       "<table border=\"1\" class=\"dataframe\">\n",
       "  <thead>\n",
       "    <tr style=\"text-align: right;\">\n",
       "      <th></th>\n",
       "      <th>wavelength</th>\n",
       "      <th>lum_efficiency</th>\n",
       "      <th>lowpass_filter</th>\n",
       "      <th>highpass_filter</th>\n",
       "      <th>bandpass_filter</th>\n",
       "    </tr>\n",
       "  </thead>\n",
       "  <tbody>\n",
       "    <tr>\n",
       "      <th>0</th>\n",
       "      <td>385</td>\n",
       "      <td>0.000396</td>\n",
       "      <td>1.0</td>\n",
       "      <td>0.0</td>\n",
       "      <td>0.0</td>\n",
       "    </tr>\n",
       "    <tr>\n",
       "      <th>1</th>\n",
       "      <td>390</td>\n",
       "      <td>0.000800</td>\n",
       "      <td>1.0</td>\n",
       "      <td>0.0</td>\n",
       "      <td>0.0</td>\n",
       "    </tr>\n",
       "    <tr>\n",
       "      <th>2</th>\n",
       "      <td>395</td>\n",
       "      <td>0.001546</td>\n",
       "      <td>1.0</td>\n",
       "      <td>0.0</td>\n",
       "      <td>0.0</td>\n",
       "    </tr>\n",
       "    <tr>\n",
       "      <th>3</th>\n",
       "      <td>400</td>\n",
       "      <td>0.002800</td>\n",
       "      <td>1.0</td>\n",
       "      <td>0.0</td>\n",
       "      <td>0.0</td>\n",
       "    </tr>\n",
       "    <tr>\n",
       "      <th>4</th>\n",
       "      <td>405</td>\n",
       "      <td>0.004656</td>\n",
       "      <td>1.0</td>\n",
       "      <td>0.0</td>\n",
       "      <td>0.0</td>\n",
       "    </tr>\n",
       "  </tbody>\n",
       "</table>\n",
       "</div>"
      ],
      "text/plain": [
       "   wavelength  lum_efficiency  lowpass_filter  highpass_filter  \\\n",
       "0         385        0.000396             1.0              0.0   \n",
       "1         390        0.000800             1.0              0.0   \n",
       "2         395        0.001546             1.0              0.0   \n",
       "3         400        0.002800             1.0              0.0   \n",
       "4         405        0.004656             1.0              0.0   \n",
       "\n",
       "   bandpass_filter  \n",
       "0              0.0  \n",
       "1              0.0  \n",
       "2              0.0  \n",
       "3              0.0  \n",
       "4              0.0  "
      ]
     },
     "execution_count": 117,
     "metadata": {},
     "output_type": "execute_result"
    }
   ],
   "source": [
    "#let's make a bandpass filter too\n",
    "lowband_CUTOFF = 470\n",
    "highband_CUTOFF = 500 #(nm) set the cutoff for th lowpass filter. every wavelength above this will not pass through\n",
    "#generate our filter\n",
    "#find the index with the closest value\n",
    "lowcutoff_idx = list(data.iloc[(data['wavelength']-lowband_CUTOFF).abs().argsort()[:1]].index)\n",
    "highcutoff_idx = list(data.iloc[(data['wavelength']-highband_CUTOFF).abs().argsort()[:1]].index)\n",
    "#make a new row in our dataframe to hold the vlues of our lowpass filter\n",
    "data['bandpass_filter']=pd.DataFrame(np.zeros(shape=(len(data.lum_efficiency),1)))\n",
    "data.loc[lowcutoff_idx[0]:highcutoff_idx[0],'bandpass_filter'] = 1\n",
    "data.head()"
   ]
  },
  {
   "cell_type": "code",
   "execution_count": 118,
   "metadata": {},
   "outputs": [
    {
     "data": {
      "image/png": "[encoded data removed]",
      "text/plain": [
       "<Figure size 432x288 with 1 Axes>"
      ]
     },
     "metadata": {
      "needs_background": "light"
     },
     "output_type": "display_data"
    }
   ],
   "source": [
    "#great now let's plot it too\n",
    "data.plot(kind='line',x='wavelength',y='bandpass_filter')\n",
    "plt.ylabel('Luminous Efficiency')\n",
    "plt.title('Bandpass Filter')\n",
    "plt.xlim(390,820)\n",
    "plt.show()"
   ]
  },
  {
   "cell_type": "code",
   "execution_count": 119,
   "metadata": {},
   "outputs": [
    {
     "data": {
      "text/html": [
       "<div>\n",
       "<style scoped>\n",
       "    .dataframe tbody tr th:only-of-type {\n",
       "        vertical-align: middle;\n",
       "    }\n",
       "\n",
       "    .dataframe tbody tr th {\n",
       "        vertical-align: top;\n",
       "    }\n",
       "\n",
       "    .dataframe thead th {\n",
       "        text-align: right;\n",
       "    }\n",
       "</style>\n",
       "<table border=\"1\" class=\"dataframe\">\n",
       "  <thead>\n",
       "    <tr style=\"text-align: right;\">\n",
       "      <th></th>\n",
       "      <th>wavelength</th>\n",
       "      <th>lum_efficiency</th>\n",
       "      <th>lowpass_filter</th>\n",
       "      <th>highpass_filter</th>\n",
       "      <th>bandpass_filter</th>\n",
       "      <th>Light Source</th>\n",
       "    </tr>\n",
       "  </thead>\n",
       "  <tbody>\n",
       "    <tr>\n",
       "      <th>0</th>\n",
       "      <td>385</td>\n",
       "      <td>0.000396</td>\n",
       "      <td>1.0</td>\n",
       "      <td>0.0</td>\n",
       "      <td>0.0</td>\n",
       "      <td>15.587785</td>\n",
       "    </tr>\n",
       "    <tr>\n",
       "      <th>1</th>\n",
       "      <td>390</td>\n",
       "      <td>0.000800</td>\n",
       "      <td>1.0</td>\n",
       "      <td>0.0</td>\n",
       "      <td>0.0</td>\n",
       "      <td>15.412752</td>\n",
       "    </tr>\n",
       "    <tr>\n",
       "      <th>2</th>\n",
       "      <td>395</td>\n",
       "      <td>0.001546</td>\n",
       "      <td>1.0</td>\n",
       "      <td>0.0</td>\n",
       "      <td>0.0</td>\n",
       "      <td>14.838094</td>\n",
       "    </tr>\n",
       "    <tr>\n",
       "      <th>3</th>\n",
       "      <td>400</td>\n",
       "      <td>0.002800</td>\n",
       "      <td>1.0</td>\n",
       "      <td>0.0</td>\n",
       "      <td>0.0</td>\n",
       "      <td>13.910626</td>\n",
       "    </tr>\n",
       "    <tr>\n",
       "      <th>4</th>\n",
       "      <td>405</td>\n",
       "      <td>0.004656</td>\n",
       "      <td>1.0</td>\n",
       "      <td>0.0</td>\n",
       "      <td>0.0</td>\n",
       "      <td>12.704975</td>\n",
       "    </tr>\n",
       "  </tbody>\n",
       "</table>\n",
       "</div>"
      ],
      "text/plain": [
       "   wavelength  lum_efficiency  lowpass_filter  highpass_filter  \\\n",
       "0         385        0.000396             1.0              0.0   \n",
       "1         390        0.000800             1.0              0.0   \n",
       "2         395        0.001546             1.0              0.0   \n",
       "3         400        0.002800             1.0              0.0   \n",
       "4         405        0.004656             1.0              0.0   \n",
       "\n",
       "   bandpass_filter  Light Source  \n",
       "0              0.0     15.587785  \n",
       "1              0.0     15.412752  \n",
       "2              0.0     14.838094  \n",
       "3              0.0     13.910626  \n",
       "4              0.0     12.704975  "
      ]
     },
     "execution_count": 119,
     "metadata": {},
     "output_type": "execute_result"
    }
   ],
   "source": [
    "#now let's take an arbitrary function and pretend it gives the \n",
    "#spectral power emmision of some imaginary light source\n",
    "#we're going to make this a column in our dataframe\n",
    "#f(x) = sin(1.8x) + sin(x) + 5sin(4x+pi/2) + 1\n",
    "\n",
    "import numpy as np\n",
    "xvals = np.linspace( -np.pi, np.pi, len(data.lum_efficiency) )\n",
    "weirdFunctionVals = np.sin(1.8* xvals ) + np.sin( xvals ) + 5*np.sin(4*xvals+np.pi/2) + 10\n",
    "data['Light Source']=pd.DataFrame(weirdFunctionVals)\n",
    "data.head()"
   ]
  },
  {
   "cell_type": "code",
   "execution_count": 120,
   "metadata": {},
   "outputs": [
    {
     "data": {
      "image/png": "[encoded data removed]",
      "text/plain": [
       "<Figure size 432x288 with 1 Axes>"
      ]
     },
     "metadata": {
      "needs_background": "light"
     },
     "output_type": "display_data"
    }
   ],
   "source": [
    "#plot our wierd light source power emmission\n",
    "import matplotlib.pyplot as plt\n",
    "data.plot(kind='line',x='wavelength',y='Light Source')\n",
    "plt.ylabel('Luminous Power')\n",
    "plt.title('Spectral Power Emission of our Imaginary Light Source')\n",
    "plt.xlim(390,820)\n",
    "plt.show()"
   ]
  },
  {
   "cell_type": "code",
   "execution_count": 121,
   "metadata": {},
   "outputs": [
    {
     "data": {
      "text/html": [
       "<div>\n",
       "<style scoped>\n",
       "    .dataframe tbody tr th:only-of-type {\n",
       "        vertical-align: middle;\n",
       "    }\n",
       "\n",
       "    .dataframe tbody tr th {\n",
       "        vertical-align: top;\n",
       "    }\n",
       "\n",
       "    .dataframe thead th {\n",
       "        text-align: right;\n",
       "    }\n",
       "</style>\n",
       "<table border=\"1\" class=\"dataframe\">\n",
       "  <thead>\n",
       "    <tr style=\"text-align: right;\">\n",
       "      <th></th>\n",
       "      <th>wavelength</th>\n",
       "      <th>lum_efficiency</th>\n",
       "      <th>lowpass_filter</th>\n",
       "      <th>highpass_filter</th>\n",
       "      <th>bandpass_filter</th>\n",
       "      <th>Light Source</th>\n",
       "      <th>Lowpass Result</th>\n",
       "      <th>Highpass Result</th>\n",
       "      <th>Bandpass Result</th>\n",
       "      <th>Vlambda Result</th>\n",
       "    </tr>\n",
       "  </thead>\n",
       "  <tbody>\n",
       "    <tr>\n",
       "      <th>0</th>\n",
       "      <td>385</td>\n",
       "      <td>0.000396</td>\n",
       "      <td>1.0</td>\n",
       "      <td>0.0</td>\n",
       "      <td>0.0</td>\n",
       "      <td>15.587785</td>\n",
       "      <td>15.587785</td>\n",
       "      <td>0.0</td>\n",
       "      <td>0.0</td>\n",
       "      <td>0.006166</td>\n",
       "    </tr>\n",
       "    <tr>\n",
       "      <th>1</th>\n",
       "      <td>390</td>\n",
       "      <td>0.000800</td>\n",
       "      <td>1.0</td>\n",
       "      <td>0.0</td>\n",
       "      <td>0.0</td>\n",
       "      <td>15.412752</td>\n",
       "      <td>15.412752</td>\n",
       "      <td>0.0</td>\n",
       "      <td>0.0</td>\n",
       "      <td>0.012330</td>\n",
       "    </tr>\n",
       "    <tr>\n",
       "      <th>2</th>\n",
       "      <td>395</td>\n",
       "      <td>0.001546</td>\n",
       "      <td>1.0</td>\n",
       "      <td>0.0</td>\n",
       "      <td>0.0</td>\n",
       "      <td>14.838094</td>\n",
       "      <td>14.838094</td>\n",
       "      <td>0.0</td>\n",
       "      <td>0.0</td>\n",
       "      <td>0.022935</td>\n",
       "    </tr>\n",
       "    <tr>\n",
       "      <th>3</th>\n",
       "      <td>400</td>\n",
       "      <td>0.002800</td>\n",
       "      <td>1.0</td>\n",
       "      <td>0.0</td>\n",
       "      <td>0.0</td>\n",
       "      <td>13.910626</td>\n",
       "      <td>13.910626</td>\n",
       "      <td>0.0</td>\n",
       "      <td>0.0</td>\n",
       "      <td>0.038950</td>\n",
       "    </tr>\n",
       "    <tr>\n",
       "      <th>4</th>\n",
       "      <td>405</td>\n",
       "      <td>0.004656</td>\n",
       "      <td>1.0</td>\n",
       "      <td>0.0</td>\n",
       "      <td>0.0</td>\n",
       "      <td>12.704975</td>\n",
       "      <td>12.704975</td>\n",
       "      <td>0.0</td>\n",
       "      <td>0.0</td>\n",
       "      <td>0.059157</td>\n",
       "    </tr>\n",
       "  </tbody>\n",
       "</table>\n",
       "</div>"
      ],
      "text/plain": [
       "   wavelength  lum_efficiency  lowpass_filter  highpass_filter  \\\n",
       "0         385        0.000396             1.0              0.0   \n",
       "1         390        0.000800             1.0              0.0   \n",
       "2         395        0.001546             1.0              0.0   \n",
       "3         400        0.002800             1.0              0.0   \n",
       "4         405        0.004656             1.0              0.0   \n",
       "\n",
       "   bandpass_filter  Light Source  Lowpass Result  Highpass Result  \\\n",
       "0              0.0     15.587785       15.587785              0.0   \n",
       "1              0.0     15.412752       15.412752              0.0   \n",
       "2              0.0     14.838094       14.838094              0.0   \n",
       "3              0.0     13.910626       13.910626              0.0   \n",
       "4              0.0     12.704975       12.704975              0.0   \n",
       "\n",
       "   Bandpass Result  Vlambda Result  \n",
       "0              0.0        0.006166  \n",
       "1              0.0        0.012330  \n",
       "2              0.0        0.022935  \n",
       "3              0.0        0.038950  \n",
       "4              0.0        0.059157  "
      ]
     },
     "execution_count": 121,
     "metadata": {},
     "output_type": "execute_result"
    }
   ],
   "source": [
    "#let's see how the different filters affect our light source\n",
    "data['Lowpass Result']= pd.DataFrame( data['Light Source'].multiply(data['lowpass_filter'], axis=\"index\") )\n",
    "data['Highpass Result']= pd.DataFrame( data['Light Source'].multiply(data['highpass_filter'], axis=\"index\") )\n",
    "data['Bandpass Result']= pd.DataFrame( data['Light Source'].multiply(data['bandpass_filter'], axis=\"index\") )\n",
    "data['Vlambda Result']= pd.DataFrame( data['Light Source'].multiply(data['lum_efficiency'], axis=\"index\") )\n",
    "data.head()"
   ]
  },
  {
   "cell_type": "code",
   "execution_count": 122,
   "metadata": {
    "scrolled": true
   },
   "outputs": [
    {
     "data": {
      "image/png": "[encoded data removed]",
      "text/plain": [
       "<Figure size 432x288 with 1 Axes>"
      ]
     },
     "metadata": {
      "needs_background": "light"
     },
     "output_type": "display_data"
    },
    {
     "data": {
      "image/png": "[encoded data removed]",
      "text/plain": [
       "<Figure size 432x288 with 1 Axes>"
      ]
     },
     "metadata": {
      "needs_background": "light"
     },
     "output_type": "display_data"
    },
    {
     "data": {
      "image/png": "[encoded data removed]",
      "text/plain": [
       "<Figure size 432x288 with 1 Axes>"
      ]
     },
     "metadata": {
      "needs_background": "light"
     },
     "output_type": "display_data"
    },
    {
     "data": {
      "image/png": "[encoded data removed]",
      "text/plain": [
       "<Figure size 432x288 with 1 Axes>"
      ]
     },
     "metadata": {
      "needs_background": "light"
     },
     "output_type": "display_data"
    }
   ],
   "source": [
    "#now let's plot the result\n",
    "data.plot(x='wavelength',y='Lowpass Result', color='red', linestyle='solid',)\n",
    "data.plot(x='wavelength',y='Highpass Result', color='green', linestyle='solid',)\n",
    "data.plot(x='wavelength',y='Bandpass Result', color='blue', linestyle='solid',)\n",
    "data.plot(x='wavelength',y='Vlambda Result', color='black', linestyle='solid',)\n",
    "plt.ylabel('Luminous Efficiency')\n",
    "plt.title('Our Imaginary Light Source passed through various filters')\n",
    "plt.xlim(390,820)\n",
    "plt.show()"
   ]
  },
  {
   "cell_type": "code",
   "execution_count": null,
   "metadata": {},
   "outputs": [],
   "source": []
  }
 ],
 "metadata": {
  "kernelspec": {
   "display_name": "Python 3",
   "language": "python",
   "name": "python3"
  },
  "language_info": {
   "codemirror_mode": {
    "name": "ipython",
    "version": 3
   },
   "file_extension": ".py",
   "mimetype": "text/x-python",
   "name": "python",
   "nbconvert_exporter": "python",
   "pygments_lexer": "ipython3",
   "version": "3.7.3"
  }
 },
 "nbformat": 4,
 "nbformat_minor": 2
}
